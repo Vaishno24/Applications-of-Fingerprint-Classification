{
 "cells": [
  {
   "cell_type": "code",
   "execution_count": null,
   "metadata": {
    "colab": {
     "base_uri": "https://localhost:8080/"
    },
    "id": "-lTcjUXlIdM0",
    "outputId": "b510fc41-a626-453c-c0a4-30dff01166d5"
   },
   "outputs": [
    {
     "name": "stdout",
     "output_type": "stream",
     "text": [
      "Drive already mounted at /content/drive; to attempt to forcibly remount, call drive.mount(\"/content/drive\", force_remount=True).\n"
     ]
    }
   ],
   "source": [
    "from google.colab import drive\n",
    "drive.mount('/content/drive')"
   ]
  },
  {
   "cell_type": "code",
   "execution_count": null,
   "metadata": {
    "id": "33pdYZCdIdM8"
   },
   "outputs": [],
   "source": [
    "import cv2, os\n",
    "import random\n",
    "import itertools\n",
    "import numpy as np\n",
    "import seaborn as sns\n",
    "import matplotlib.pyplot as plt\n",
    "\n",
    "from tensorflow.keras.models import Sequential\n",
    "from tensorflow.keras.utils import to_categorical, plot_model\n",
    "from keras.preprocessing.image import ImageDataGenerator\n",
    "from tensorflow.keras import layers, regularizers, optimizers, callbacks\n",
    "from sklearn.model_selection import train_test_split\n",
    "from sklearn.metrics import confusion_matrix"
   ]
  },
  {
   "cell_type": "code",
   "execution_count": null,
   "metadata": {
    "id": "eEp7-vzXtRLS"
   },
   "outputs": [],
   "source": [
    "Altered_data =  np.load('/content/drive/MyDrive/DL_project/Altered_level.npy',allow_pickle=True)\n",
    "import random\n",
    "from sklearn.utils import shuffle\n",
    "data = shuffle(Altered_data)"
   ]
  },
  {
   "cell_type": "code",
   "execution_count": null,
   "metadata": {
    "colab": {
     "base_uri": "https://localhost:8080/"
    },
    "id": "5QCUOiUf6KFt",
    "outputId": "36956fdb-f512-4093-be99-0c8677169934"
   },
   "outputs": [
    {
     "data": {
      "text/plain": [
       "(49270, 5)"
      ]
     },
     "execution_count": 13,
     "metadata": {},
     "output_type": "execute_result"
    }
   ],
   "source": [
    "np.shape(Altered_data)"
   ]
  },
  {
   "cell_type": "code",
   "execution_count": null,
   "metadata": {
    "id": "gSZ7e77ER9YF"
   },
   "outputs": [],
   "source": [
    "img_size = 96\n",
    "X_data,y_data=[],[]\n",
    "# sample data [ID,G, fingerNum, img_resize, \"Easy/Medium/Hard\"]\n",
    "\n",
    "for _,_, _, feature,l in Altered_data:\n",
    "    X_data.append(feature)\n",
    "    y_data.append(l)"
   ]
  },
  {
   "cell_type": "code",
   "execution_count": null,
   "metadata": {
    "colab": {
     "base_uri": "https://localhost:8080/"
    },
    "id": "ky9qZPPdTmwH",
    "outputId": "327181f7-57a9-4969-a741-02849ff1f39d"
   },
   "outputs": [
    {
     "data": {
      "text/plain": [
       "49270"
      ]
     },
     "execution_count": 14,
     "metadata": {},
     "output_type": "execute_result"
    }
   ],
   "source": [
    "len(y_data)"
   ]
  },
  {
   "cell_type": "code",
   "execution_count": null,
   "metadata": {
    "id": "jl-QdGNV_YaE"
   },
   "outputs": [],
   "source": [
    "img_size = 96\n",
    "X_data = np.array(X_data).reshape(-1, img_size, img_size, 1)\n",
    "X_data = X_data /255.0 # Normalize to [0, 1]"
   ]
  },
  {
   "cell_type": "code",
   "execution_count": null,
   "metadata": {
    "id": "d0E5Gp0r_b58"
   },
   "outputs": [],
   "source": [
    "from sklearn import preprocessing\n",
    "label_encoder = preprocessing.LabelEncoder()\n",
    "y_data = label_encoder.fit_transform(y_data)  \n",
    "y_data = to_categorical(y_data)\n"
   ]
  },
  {
   "cell_type": "code",
   "execution_count": null,
   "metadata": {
    "colab": {
     "base_uri": "https://localhost:8080/"
    },
    "id": "zKz7IMGEV1dZ",
    "outputId": "0561736b-f6ea-4030-a530-19c0b57c312e"
   },
   "outputs": [
    {
     "data": {
      "text/plain": [
       "array([[1., 0., 0.],\n",
       "       [1., 0., 0.],\n",
       "       [1., 0., 0.],\n",
       "       ...,\n",
       "       [0., 1., 0.],\n",
       "       [0., 1., 0.],\n",
       "       [0., 1., 0.]], dtype=float32)"
      ]
     },
     "execution_count": 19,
     "metadata": {},
     "output_type": "execute_result"
    }
   ],
   "source": [
    "y_data   # column1 -> Easy    column2 -> Medium    column3 -> Hard "
   ]
  },
  {
   "cell_type": "code",
   "execution_count": null,
   "metadata": {
    "id": "f0YWMEnYIdNC"
   },
   "outputs": [],
   "source": [
    "X_train, x_test, Y_train, y_test = train_test_split(X_data, y_data, test_size=0.2, random_state=12)\n",
    "x_train, x_val, y_train, y_val = train_test_split(X_train, Y_train, test_size=0.2, random_state=42)"
   ]
  },
  {
   "cell_type": "code",
   "execution_count": null,
   "metadata": {
    "colab": {
     "base_uri": "https://localhost:8080/"
    },
    "id": "0Y_4MH_kIdNF",
    "outputId": "f9d18a17-f783-4c0f-c4db-0fec8f3e7528"
   },
   "outputs": [
    {
     "name": "stdout",
     "output_type": "stream",
     "text": [
      "Shapes:                  Feature shape    label shape\n",
      "----------------------------------------------------\n",
      "Gender_Train:       (31532, 96, 96, 1) (31532, 3)\n",
      "Gender_Validation:  (7884, 96, 96, 1) (7884, 3)\n",
      "Gender_Test:        (9854, 96, 96, 1) (9854, 3)\n"
     ]
    }
   ],
   "source": [
    "print(\"Shapes:                  Feature shape    label shape\")\n",
    "print(\"----------------------------------------------------\")\n",
    "print(\"Gender_Train:      \", np.shape(x_train), np.shape(y_train))\n",
    "print(\"Gender_Validation: \", np.shape(x_val), np.shape(y_val))\n",
    "print(\"Gender_Test:       \", np.shape(x_test), np.shape(y_test))\n",
    "\n",
    "del Altered_data, X_data , y_data"
   ]
  },
  {
   "cell_type": "code",
   "execution_count": null,
   "metadata": {
    "colab": {
     "base_uri": "https://localhost:8080/"
    },
    "id": "Fqv_1GWSIdNH",
    "outputId": "98a9628f-301e-4ca3-f126-8d796d171688"
   },
   "outputs": [
    {
     "name": "stdout",
     "output_type": "stream",
     "text": [
      "Model: \"FingerNum_Mod\"\n",
      "_________________________________________________________________\n",
      " Layer (type)                Output Shape              Param #   \n",
      "=================================================================\n",
      " conv2d_3 (Conv2D)           (None, 92, 92, 32)        832       \n",
      "                                                                 \n",
      " batch_normalization_3 (Batc  (None, 92, 92, 32)       128       \n",
      " hNormalization)                                                 \n",
      "                                                                 \n",
      " max_pooling2d_3 (MaxPooling  (None, 46, 46, 32)       0         \n",
      " 2D)                                                             \n",
      "                                                                 \n",
      " conv2d_4 (Conv2D)           (None, 42, 42, 64)        51264     \n",
      "                                                                 \n",
      " batch_normalization_4 (Batc  (None, 42, 42, 64)       256       \n",
      " hNormalization)                                                 \n",
      "                                                                 \n",
      " max_pooling2d_4 (MaxPooling  (None, 21, 21, 64)       0         \n",
      " 2D)                                                             \n",
      "                                                                 \n",
      " conv2d_5 (Conv2D)           (None, 19, 19, 128)       73856     \n",
      "                                                                 \n",
      " batch_normalization_5 (Batc  (None, 19, 19, 128)      512       \n",
      " hNormalization)                                                 \n",
      "                                                                 \n",
      " max_pooling2d_5 (MaxPooling  (None, 9, 9, 128)        0         \n",
      " 2D)                                                             \n",
      "                                                                 \n",
      " dropout_2 (Dropout)         (None, 9, 9, 128)         0         \n",
      "                                                                 \n",
      " flatten_1 (Flatten)         (None, 10368)             0         \n",
      "                                                                 \n",
      " dense_2 (Dense)             (None, 256)               2654464   \n",
      "                                                                 \n",
      " dropout_3 (Dropout)         (None, 256)               0         \n",
      "                                                                 \n",
      " dense_3 (Dense)             (None, 3)                 771       \n",
      "                                                                 \n",
      "=================================================================\n",
      "Total params: 2,782,083\n",
      "Trainable params: 2,781,635\n",
      "Non-trainable params: 448\n",
      "_________________________________________________________________\n"
     ]
    }
   ],
   "source": [
    "nets = 1\n",
    "model = [0] * nets\n",
    "final_Dense_units = [3]\n",
    "model_name = ['FingerNum_Mod']\n",
    "for i in range(nets):\n",
    "    model[i] = Sequential(name=model_name[i])\n",
    "\n",
    "    model[i].add(layers.Conv2D(32, (5, 5), activation='relu', kernel_regularizer=regularizers.l2(0.001), input_shape = (96, 96, 1)))\n",
    "    model[i].add(layers.BatchNormalization())\n",
    "    model[i].add(layers.MaxPool2D((2, 2)))\n",
    "    model[i].add(layers.Conv2D(64,(5, 5), activation='relu', kernel_regularizer=regularizers.l2(0.001)))\n",
    "    model[i].add(layers.BatchNormalization())\n",
    "    model[i].add(layers.MaxPool2D((2, 2)))\n",
    "    model[i].add(layers.Conv2D(128,(3, 3), activation='relu', kernel_regularizer=regularizers.l2(0.001)))\n",
    "    model[i].add(layers.BatchNormalization())\n",
    "    model[i].add(layers.MaxPool2D((2, 2)))\n",
    "    model[i].add(layers.Dropout(0.3))\n",
    "    model[i].add(layers.Flatten())\n",
    "    model[i].add(layers.Dense(256, activation='relu'))\n",
    "    model[i].add(layers.Dropout(0.4))\n",
    "    model[i].add(layers.Dense(final_Dense_units[i], activation='softmax'))\n",
    "\n",
    "    # Complete with Adam optimizer and entropy cost\n",
    "    model[i].compile(optimizer=optimizers.Adam(learning_rate=0.0001), loss=\"categorical_crossentropy\", metrics=[\"accuracy\"])\n",
    "    model[i].summary()"
   ]
  },
  {
   "cell_type": "code",
   "execution_count": null,
   "metadata": {
    "id": "YQCUy40xIdNJ"
   },
   "outputs": [],
   "source": [
    "history = [0] * nets\n",
    "CallBack = [0] * nets\n",
    "ReduceLR_minlr = [1e-9, 1e-7]\n",
    "epochs = 30\n",
    "batch_size = 64\n",
    "for i in range(nets):\n",
    "    CallBack[i] = [\n",
    "        callbacks.EarlyStopping(monitor='val_accuracy', patience=10, mode='max', verbose=1),\n",
    "        callbacks.ReduceLROnPlateau(factor=0.1, patience=1, min_lr=ReduceLR_minlr[i], verbose=1),\n",
    "        callbacks.TensorBoard(log_dir=\"./log_dir/\"+model_name[i])]"
   ]
  },
  {
   "cell_type": "code",
   "execution_count": null,
   "metadata": {
    "colab": {
     "base_uri": "https://localhost:8080/"
    },
    "id": "7IHykM_qIdNN",
    "outputId": "1162775e-d685-41ad-822b-4395c91d6311",
    "scrolled": true
   },
   "outputs": [
    {
     "name": "stdout",
     "output_type": "stream",
     "text": [
      "Epoch 1/30\n",
      "493/493 [==============================] - 38s 56ms/step - loss: 1.1000 - accuracy: 0.5454 - val_loss: 1.2592 - val_accuracy: 0.4760 - lr: 1.0000e-04\n",
      "Epoch 2/30\n",
      "493/493 [==============================] - 27s 55ms/step - loss: 0.8792 - accuracy: 0.6423 - val_loss: 0.8031 - val_accuracy: 0.6763 - lr: 1.0000e-04\n",
      "Epoch 3/30\n",
      "493/493 [==============================] - 26s 53ms/step - loss: 0.7728 - accuracy: 0.6983 - val_loss: 0.7266 - val_accuracy: 0.7107 - lr: 1.0000e-04\n",
      "Epoch 4/30\n",
      "493/493 [==============================] - 27s 54ms/step - loss: 0.6869 - accuracy: 0.7407 - val_loss: 0.6641 - val_accuracy: 0.7405 - lr: 1.0000e-04\n",
      "Epoch 5/30\n",
      "493/493 [==============================] - 26s 53ms/step - loss: 0.6231 - accuracy: 0.7637 - val_loss: 0.6102 - val_accuracy: 0.7601 - lr: 1.0000e-04\n",
      "Epoch 6/30\n",
      "493/493 [==============================] - 27s 55ms/step - loss: 0.5731 - accuracy: 0.7888 - val_loss: 0.5933 - val_accuracy: 0.7723 - lr: 1.0000e-04\n",
      "Epoch 7/30\n",
      "493/493 [==============================] - 27s 54ms/step - loss: 0.5251 - accuracy: 0.8086 - val_loss: 0.5572 - val_accuracy: 0.7831 - lr: 1.0000e-04\n",
      "Epoch 8/30\n",
      "493/493 [==============================] - 27s 55ms/step - loss: 0.4929 - accuracy: 0.8223 - val_loss: 0.5531 - val_accuracy: 0.7842 - lr: 1.0000e-04\n",
      "Epoch 9/30\n",
      "493/493 [==============================] - 27s 55ms/step - loss: 0.4571 - accuracy: 0.8365 - val_loss: 0.5424 - val_accuracy: 0.7887 - lr: 1.0000e-04\n",
      "Epoch 10/30\n",
      "492/493 [============================>.] - ETA: 0s - loss: 0.4314 - accuracy: 0.8494\n",
      "Epoch 10: ReduceLROnPlateau reducing learning rate to 9.999999747378752e-06.\n",
      "493/493 [==============================] - 27s 54ms/step - loss: 0.4312 - accuracy: 0.8495 - val_loss: 0.7188 - val_accuracy: 0.7404 - lr: 1.0000e-04\n",
      "Epoch 11/30\n",
      "493/493 [==============================] - 27s 56ms/step - loss: 0.3846 - accuracy: 0.8687 - val_loss: 0.5241 - val_accuracy: 0.7977 - lr: 1.0000e-05\n",
      "Epoch 12/30\n",
      "492/493 [============================>.] - ETA: 0s - loss: 0.3672 - accuracy: 0.8767\n",
      "Epoch 12: ReduceLROnPlateau reducing learning rate to 9.999999747378752e-07.\n",
      "493/493 [==============================] - 26s 53ms/step - loss: 0.3672 - accuracy: 0.8768 - val_loss: 0.5305 - val_accuracy: 0.7967 - lr: 1.0000e-05\n",
      "Epoch 13/30\n",
      "492/493 [============================>.] - ETA: 0s - loss: 0.3602 - accuracy: 0.8807\n",
      "Epoch 13: ReduceLROnPlateau reducing learning rate to 9.999999974752428e-08.\n",
      "493/493 [==============================] - 27s 54ms/step - loss: 0.3603 - accuracy: 0.8806 - val_loss: 0.5289 - val_accuracy: 0.7967 - lr: 1.0000e-06\n",
      "Epoch 14/30\n",
      "492/493 [============================>.] - ETA: 0s - loss: 0.3601 - accuracy: 0.8803\n",
      "Epoch 14: ReduceLROnPlateau reducing learning rate to 1.0000000116860975e-08.\n",
      "493/493 [==============================] - 28s 57ms/step - loss: 0.3603 - accuracy: 0.8803 - val_loss: 0.5288 - val_accuracy: 0.7964 - lr: 1.0000e-07\n",
      "Epoch 15/30\n",
      "492/493 [============================>.] - ETA: 0s - loss: 0.3616 - accuracy: 0.8802\n",
      "Epoch 15: ReduceLROnPlateau reducing learning rate to 1e-09.\n",
      "493/493 [==============================] - 29s 59ms/step - loss: 0.3614 - accuracy: 0.8803 - val_loss: 0.5291 - val_accuracy: 0.7965 - lr: 1.0000e-08\n",
      "Epoch 16/30\n",
      "493/493 [==============================] - 29s 59ms/step - loss: 0.3609 - accuracy: 0.8808 - val_loss: 0.5289 - val_accuracy: 0.7968 - lr: 1.0000e-09\n",
      "Epoch 17/30\n",
      "493/493 [==============================] - 27s 55ms/step - loss: 0.3571 - accuracy: 0.8807 - val_loss: 0.5291 - val_accuracy: 0.7965 - lr: 1.0000e-09\n",
      "Epoch 18/30\n",
      "493/493 [==============================] - 29s 58ms/step - loss: 0.3597 - accuracy: 0.8828 - val_loss: 0.5289 - val_accuracy: 0.7964 - lr: 1.0000e-09\n",
      "Epoch 19/30\n",
      "493/493 [==============================] - 26s 53ms/step - loss: 0.3586 - accuracy: 0.8818 - val_loss: 0.5291 - val_accuracy: 0.7965 - lr: 1.0000e-09\n",
      "Epoch 20/30\n",
      "493/493 [==============================] - 27s 55ms/step - loss: 0.3611 - accuracy: 0.8808 - val_loss: 0.5289 - val_accuracy: 0.7963 - lr: 1.0000e-09\n",
      "Epoch 21/30\n",
      "493/493 [==============================] - 27s 55ms/step - loss: 0.3597 - accuracy: 0.8809 - val_loss: 0.5288 - val_accuracy: 0.7967 - lr: 1.0000e-09\n",
      "Epoch 21: early stopping\n"
     ]
    }
   ],
   "source": [
    "history[0] = model[0].fit(x_train, y_train,\n",
    "                    batch_size = batch_size,\n",
    "                    epochs = epochs, \n",
    "                    validation_data = (x_val, y_val),\n",
    "                    verbose = 1, callbacks= CallBack[0])"
   ]
  },
  {
   "cell_type": "code",
   "execution_count": null,
   "metadata": {
    "colab": {
     "base_uri": "https://localhost:8080/",
     "height": 545
    },
    "id": "O2McCVc8IdNP",
    "outputId": "75133745-9243-44ec-cfd4-a248e92426b2"
   },
   "outputs": [
    {
     "data": {
      "image/png": "[encoded data removed]",
      "text/plain": [
       "<Figure size 432x288 with 1 Axes>"
      ]
     },
     "metadata": {
      "needs_background": "light"
     },
     "output_type": "display_data"
    },
    {
     "data": {
      "image/png": "[encoded data removed]",
      "text/plain": [
       "<Figure size 432x288 with 1 Axes>"
      ]
     },
     "metadata": {
      "needs_background": "light"
     },
     "output_type": "display_data"
    }
   ],
   "source": [
    "acc = [0] * nets\n",
    "val_acc = [0] * nets\n",
    "loss = [0] * nets\n",
    "val_loss = [0] * nets\n",
    "for i in range(nets):\n",
    "    acc[i] = history[i].history['accuracy']\n",
    "    val_acc[i] = history[i].history['val_accuracy']\n",
    "    loss[i] = history[i].history['loss']\n",
    "    val_loss[i] = history[i].history['val_loss']\n",
    "\n",
    "    epochs = range(1, len(acc[i]) + 1)\n",
    "    # plot figures models\n",
    "    plt.figure()\n",
    "    plt.plot(epochs, acc[i], label='Training acc of '+model_name[i])\n",
    "    plt.plot(epochs, val_acc[i], label='Validation acc of '+model_name[i])\n",
    "    plt.title('Training and validation accuracy of '+model_name[i])\n",
    "    plt.legend()\n",
    "    plt.figure()\n",
    "    plt.plot(epochs, loss[i],  label='Training loss of '+model_name[i])\n",
    "    plt.plot(epochs, val_loss[i], label='Validation loss of '+model_name[i])\n",
    "    plt.title('Training and validation loss of '+model_name[i])\n",
    "    plt.legend()"
   ]
  },
  {
   "cell_type": "code",
   "execution_count": null,
   "metadata": {
    "colab": {
     "base_uri": "https://localhost:8080/"
    },
    "id": "scUiJHj9WiL1",
    "outputId": "0230baf1-7b25-478c-c4b8-9807a18cb6c1"
   },
   "outputs": [
    {
     "name": "stdout",
     "output_type": "stream",
     "text": [
      "308/308 [==============================] - 4s 12ms/step - loss: 0.5029 - accuracy: 0.8073\n",
      "The testing accuracy of the model - 80.73%\n"
     ]
    }
   ],
   "source": [
    "test_loss,test_acc = model[0].evaluate(x_test, y_test)\n",
    "#accuracy_score\n",
    "print(\"The testing accuracy of the model - \" + str(round(test_acc*100,2)) + \"%\")"
   ]
  },
  {
   "cell_type": "code",
   "execution_count": null,
   "metadata": {
    "id": "G8rn0rVpU6Kv"
   },
   "outputs": [],
   "source": [
    "y_pred = model[0].predict(x_test)"
   ]
  },
  {
   "cell_type": "code",
   "execution_count": null,
   "metadata": {
    "colab": {
     "base_uri": "https://localhost:8080/",
     "height": 434
    },
    "id": "A5UEJJtXWq0c",
    "outputId": "44d81567-1ccd-49bd-c963-93b04d4c9332"
   },
   "outputs": [
    {
     "data": {
      "image/png": "[encoded data removed]",
      "text/plain": [
       "<Figure size 648x432 with 1 Axes>"
      ]
     },
     "metadata": {
      "needs_background": "light"
     },
     "output_type": "display_data"
    }
   ],
   "source": [
    "from sklearn.metrics import confusion_matrix\n",
    "from mlxtend.plotting import plot_confusion_matrix\n",
    "import matplotlib.pyplot as plt\n",
    "\n",
    "labels= ['Easy', 'Medium','Hard']\n",
    "cf = confusion_matrix(y_test.argmax(axis = 1), y_pred.argmax(axis = 1))\n",
    "fig, ax = plot_confusion_matrix(conf_mat=cf, figsize=(9, 6))\n",
    "plt.xlabel('Prediction', fontsize=20)\n",
    "plt.ylabel('Actual', fontsize=20)\n",
    "plt.title('Confusion Matrix', fontsize=20)\n",
    "plt.show()"
   ]
  },
  {
   "cell_type": "code",
   "execution_count": null,
   "metadata": {
    "colab": {
     "base_uri": "https://localhost:8080/"
    },
    "id": "S0UsLlHANgyS",
    "outputId": "654bc8e3-a647-47f8-b807-f7736c7b6891"
   },
   "outputs": [
    {
     "name": "stdout",
     "output_type": "stream",
     "text": [
      "              precision    recall  f1-score   support\n",
      "\n",
      "           0       0.94      0.96      0.95      3555\n",
      "           1       0.70      0.77      0.73      2887\n",
      "           2       0.76      0.68      0.72      3412\n",
      "\n",
      "    accuracy                           0.81      9854\n",
      "   macro avg       0.80      0.80      0.80      9854\n",
      "weighted avg       0.81      0.81      0.81      9854\n",
      "\n"
     ]
    }
   ],
   "source": [
    "from sklearn.metrics import accuracy_score, confusion_matrix, classification_report, recall_score\n",
    "print(classification_report(y_test.argmax(axis = 1),y_pred.argmax(axis = 1)))"
   ]
  },
  {
   "cell_type": "code",
   "execution_count": null,
   "metadata": {
    "id": "PerF4KJ0CkNv"
   },
   "outputs": [],
   "source": []
  }
 ],
 "metadata": {
  "accelerator": "GPU",
  "colab": {
   "collapsed_sections": [],
   "name": "Alter_level(CNN+Mobilenet).ipynb",
   "provenance": []
  },
  "kernelspec": {
   "display_name": "Python 3",
   "language": "python",
   "name": "python3"
  },
  "language_info": {
   "codemirror_mode": {
    "name": "ipython",
    "version": 3
   },
   "file_extension": ".py",
   "mimetype": "text/x-python",
   "name": "python",
   "nbconvert_exporter": "python",
   "pygments_lexer": "ipython3",
   "version": "3.7.4"
  }
 },
 "nbformat": 4,
 "nbformat_minor": 1
}
