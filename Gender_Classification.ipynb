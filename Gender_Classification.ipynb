{
 "cells": [
  {
   "cell_type": "code",
   "execution_count": 1,
   "metadata": {
    "colab": {
     "base_uri": "https://localhost:8080/"
    },
    "id": "-lTcjUXlIdM0",
    "outputId": "423e509a-a29b-4e38-b7a6-4fe76361ba1a"
   },
   "outputs": [
    {
     "name": "stdout",
     "output_type": "stream",
     "text": [
      "Mounted at /content/gdrive\n"
     ]
    }
   ],
   "source": [
    "from google.colab import drive\n",
    "drive.mount('/content/gdrive')"
   ]
  },
  {
   "cell_type": "code",
   "execution_count": null,
   "metadata": {
    "colab": {
     "base_uri": "https://localhost:8080/"
    },
    "id": "O1SC5CKItbYy",
    "outputId": "6c3f1f0f-bcba-4204-a96b-4a693f072e04"
   },
   "outputs": [
    {
     "name": "stdout",
     "output_type": "stream",
     "text": [
      "Mounted at /content/drive\n"
     ]
    }
   ],
   "source": [
    "from google.colab import drive\n",
    "drive.mount('/content/drive')"
   ]
  },
  {
   "cell_type": "code",
   "execution_count": 2,
   "metadata": {
    "id": "33pdYZCdIdM8"
   },
   "outputs": [],
   "source": [
    "import cv2, os\n",
    "import random\n",
    "import itertools\n",
    "import numpy as np\n",
    "import seaborn as sns\n",
    "import matplotlib.pyplot as plt\n",
    "\n",
    "from tensorflow.keras.models import Sequential\n",
    "from tensorflow.keras.utils import to_categorical, plot_model\n",
    "from keras.preprocessing.image import ImageDataGenerator\n",
    "from tensorflow.keras import layers, regularizers, optimizers, callbacks\n",
    "from sklearn.model_selection import train_test_split\n",
    "from sklearn.metrics import confusion_matrix\n",
    "\n",
    "import random\n",
    "import warnings\n",
    "warnings.filterwarnings('ignore')"
   ]
  },
  {
   "cell_type": "code",
   "execution_count": 3,
   "metadata": {
    "id": "eEp7-vzXtRLS"
   },
   "outputs": [],
   "source": [
    "Real_data =  np.load('/content/gdrive/MyDrive/DL_project/Final_Real.npy',allow_pickle=True)"
   ]
  },
  {
   "cell_type": "code",
   "execution_count": 4,
   "metadata": {
    "colab": {
     "base_uri": "https://localhost:8080/"
    },
    "id": "UYgKNMy0Tt1J",
    "outputId": "6a44d192-557f-4aa1-ec66-adf6a70c420f"
   },
   "outputs": [
    {
     "data": {
      "text/plain": [
       "(6000, 5)"
      ]
     },
     "execution_count": 4,
     "metadata": {},
     "output_type": "execute_result"
    }
   ],
   "source": [
    "np.shape(Real_data)"
   ]
  },
  {
   "cell_type": "code",
   "execution_count": 5,
   "metadata": {
    "id": "hadiCRRpAmU-"
   },
   "outputs": [],
   "source": [
    "X_M_test,y_M_test,X_F_test,y_F_test = [],[],[],[]\n",
    "# sample data [ID,G, fingerNum, img_resize, \"Real/Fake\"]\n",
    "\n",
    "for _, gender, _, feature, _ in Real_data:\n",
    "    if gender == 'M':\n",
    "        X_M_test.append(feature)\n",
    "        y_M_test.append(0)\n",
    "    else:\n",
    "        X_F_test.append(feature)\n",
    "        y_F_test.append(1)\n"
   ]
  },
  {
   "cell_type": "code",
   "execution_count": 6,
   "metadata": {
    "id": "P2sT0sGJmNTJ"
   },
   "outputs": [],
   "source": [
    "X_M_test=X_M_test[0:1230]\n",
    "y_M_test=y_M_test[0:1230]"
   ]
  },
  {
   "cell_type": "code",
   "execution_count": 7,
   "metadata": {
    "id": "OkHHx3bXn4rz"
   },
   "outputs": [],
   "source": [
    "x_data, y_data= [], []\n",
    "x_data=np.concatenate([X_M_test, X_F_test], axis=0)\n",
    "y_data=np.concatenate([y_M_test, y_F_test], axis=0)\n",
    "\n",
    "del X_M_test,X_F_test,y_M_test,y_F_test"
   ]
  },
  {
   "cell_type": "code",
   "execution_count": 8,
   "metadata": {
    "id": "Guk2tjyzIdNE"
   },
   "outputs": [],
   "source": [
    "img_size = 96\n",
    "x_data = np.array(x_data).reshape(-1, img_size, img_size,1)\n",
    "x_data = x_data / 255.0"
   ]
  },
  {
   "cell_type": "code",
   "execution_count": 9,
   "metadata": {
    "id": "aMPZ_u65AquC"
   },
   "outputs": [],
   "source": [
    "y_data = to_categorical(y_data, num_classes=2)"
   ]
  },
  {
   "cell_type": "code",
   "execution_count": 10,
   "metadata": {
    "colab": {
     "base_uri": "https://localhost:8080/"
    },
    "id": "7mvD4gslnjOp",
    "outputId": "4c700b5e-0038-4211-8e75-778d9b3be14d"
   },
   "outputs": [
    {
     "data": {
      "text/plain": [
       "2460"
      ]
     },
     "execution_count": 10,
     "metadata": {},
     "output_type": "execute_result"
    }
   ],
   "source": [
    "len(x_data)"
   ]
  },
  {
   "cell_type": "code",
   "execution_count": 11,
   "metadata": {
    "id": "PZCH-yP7tzQw"
   },
   "outputs": [],
   "source": [
    "X_train, X_Gender_test, y_train, y_Gender_test = train_test_split(\n",
    "    x_data, y_data, test_size=0.2, random_state=2)"
   ]
  },
  {
   "cell_type": "code",
   "execution_count": 12,
   "metadata": {
    "id": "ZIVU5kP2ugQe"
   },
   "outputs": [],
   "source": [
    "X_Gender_train, X_Gender_val, y_Gender_train, y_Gender_val = train_test_split(\n",
    "    X_train, y_train, test_size=0.2, random_state=2)"
   ]
  },
  {
   "cell_type": "code",
   "execution_count": 13,
   "metadata": {
    "colab": {
     "base_uri": "https://localhost:8080/"
    },
    "id": "0Y_4MH_kIdNF",
    "outputId": "da6e4b97-cf21-4d93-bf7e-476c3d2b83e2"
   },
   "outputs": [
    {
     "name": "stdout",
     "output_type": "stream",
     "text": [
      "Shapes:              Feature shape    label shape\n",
      "----------------------------------------------------\n",
      "Gender_Train:       (1574, 96, 96, 1) (1574, 2)\n",
      "Gender_Validation:  (394, 96, 96, 1) (394, 2)\n",
      "Gender_Test:        (492, 96, 96, 1) (492, 2)\n",
      "----------------------------------------------------\n",
      "Total Data:         (2460, 96, 96, 1) (2460, 2)\n"
     ]
    }
   ],
   "source": [
    "print(\"Shapes:              Feature shape    label shape\")\n",
    "print(\"----------------------------------------------------\")\n",
    "print(\"Gender_Train:      \", np.shape(X_Gender_train), np.shape(y_Gender_train))\n",
    "print(\"Gender_Validation: \", np.shape(X_Gender_val), np.shape(y_Gender_val))\n",
    "print(\"Gender_Test:       \", np.shape(X_Gender_test), np.shape(y_Gender_test))\n",
    "print(\"----------------------------------------------------\")\n",
    "print(\"Total Data:        \", np.shape(x_data), np.shape(y_data))\n",
    "\n",
    "#del Altered_data, Real_data,X_Altered, y_Gender_Altered # Free some memory again"
   ]
  },
  {
   "cell_type": "code",
   "execution_count": 14,
   "metadata": {
    "colab": {
     "base_uri": "https://localhost:8080/"
    },
    "id": "Fqv_1GWSIdNH",
    "outputId": "a44070d9-a6bb-4cf0-d8ce-1960cabf1ebb"
   },
   "outputs": [
    {
     "name": "stdout",
     "output_type": "stream",
     "text": [
      "Model: \"Gender_Mod\"\n",
      "_________________________________________________________________\n",
      " Layer (type)                Output Shape              Param #   \n",
      "=================================================================\n",
      " conv2d (Conv2D)             (None, 92, 92, 32)        832       \n",
      "                                                                 \n",
      " batch_normalization (BatchN  (None, 92, 92, 32)       128       \n",
      " ormalization)                                                   \n",
      "                                                                 \n",
      " max_pooling2d (MaxPooling2D  (None, 46, 46, 32)       0         \n",
      " )                                                               \n",
      "                                                                 \n",
      " conv2d_1 (Conv2D)           (None, 42, 42, 64)        51264     \n",
      "                                                                 \n",
      " batch_normalization_1 (Batc  (None, 42, 42, 64)       256       \n",
      " hNormalization)                                                 \n",
      "                                                                 \n",
      " max_pooling2d_1 (MaxPooling  (None, 21, 21, 64)       0         \n",
      " 2D)                                                             \n",
      "                                                                 \n",
      " conv2d_2 (Conv2D)           (None, 19, 19, 128)       73856     \n",
      "                                                                 \n",
      " batch_normalization_2 (Batc  (None, 19, 19, 128)      512       \n",
      " hNormalization)                                                 \n",
      "                                                                 \n",
      " max_pooling2d_2 (MaxPooling  (None, 9, 9, 128)        0         \n",
      " 2D)                                                             \n",
      "                                                                 \n",
      " dropout (Dropout)           (None, 9, 9, 128)         0         \n",
      "                                                                 \n",
      " flatten (Flatten)           (None, 10368)             0         \n",
      "                                                                 \n",
      " dense (Dense)               (None, 256)               2654464   \n",
      "                                                                 \n",
      " dropout_1 (Dropout)         (None, 256)               0         \n",
      "                                                                 \n",
      " dense_1 (Dense)             (None, 2)                 514       \n",
      "                                                                 \n",
      "=================================================================\n",
      "Total params: 2,781,826\n",
      "Trainable params: 2,781,378\n",
      "Non-trainable params: 448\n",
      "_________________________________________________________________\n"
     ]
    }
   ],
   "source": [
    "nets = 1\n",
    "model = [0] * nets\n",
    "final_Dense_units = [2]\n",
    "model_name = ['Gender_Mod']\n",
    "for i in range(nets):\n",
    "    model[i] = Sequential(name=model_name[i])\n",
    "\n",
    "    model[i].add(layers.Conv2D(32, (5, 5), activation='relu', kernel_regularizer=regularizers.l2(0.001), input_shape = (96, 96,1)))\n",
    "    model[i].add(layers.BatchNormalization())\n",
    "    model[i].add(layers.MaxPool2D((2, 2)))\n",
    "    model[i].add(layers.Conv2D(64,(5, 5), activation='relu', kernel_regularizer=regularizers.l2(0.001)))\n",
    "    model[i].add(layers.BatchNormalization())\n",
    "    model[i].add(layers.MaxPool2D((2, 2)))\n",
    "    model[i].add(layers.Conv2D(128,(3, 3), activation='relu', kernel_regularizer=regularizers.l2(0.001)))\n",
    "    model[i].add(layers.BatchNormalization())\n",
    "    model[i].add(layers.MaxPool2D((2, 2)))\n",
    "    model[i].add(layers.Dropout(0.3))\n",
    "    model[i].add(layers.Flatten())\n",
    "    model[i].add(layers.Dense(256, activation='relu'))\n",
    "    model[i].add(layers.Dropout(0.4))\n",
    "    model[i].add(layers.Dense(final_Dense_units[i], activation='softmax'))\n",
    "\n",
    "    # Complete with Adam optimizer and entropy cost\n",
    "    model[i].compile(optimizer=optimizers.Adam(learning_rate=0.0001), loss=\"binary_crossentropy\", metrics=[\"accuracy\"])\n",
    "    model[i].summary()"
   ]
  },
  {
   "cell_type": "code",
   "execution_count": 15,
   "metadata": {
    "colab": {
     "base_uri": "https://localhost:8080/"
    },
    "id": "YQCUy40xIdNJ",
    "outputId": "3fbce260-6416-45d2-e072-373fea456159"
   },
   "outputs": [
    {
     "name": "stdout",
     "output_type": "stream",
     "text": [
      "Epoch 1/30\n",
      "25/25 [==============================] - 13s 118ms/step - loss: 1.1571 - accuracy: 0.5451 - val_loss: 0.8301 - val_accuracy: 0.4772 - lr: 1.0000e-04\n",
      "Epoch 2/30\n",
      "24/25 [===========================>..] - ETA: 0s - loss: 0.7896 - accuracy: 0.6712\n",
      "Epoch 2: ReduceLROnPlateau reducing learning rate to 9.999999747378752e-06.\n",
      "25/25 [==============================] - 2s 69ms/step - loss: 0.7914 - accuracy: 0.6728 - val_loss: 0.8308 - val_accuracy: 0.4670 - lr: 1.0000e-04\n",
      "Epoch 3/30\n",
      "24/25 [===========================>..] - ETA: 0s - loss: 0.7246 - accuracy: 0.6914\n",
      "Epoch 3: ReduceLROnPlateau reducing learning rate to 9.999999747378752e-07.\n",
      "25/25 [==============================] - 2s 69ms/step - loss: 0.7251 - accuracy: 0.6906 - val_loss: 0.8446 - val_accuracy: 0.4569 - lr: 1.0000e-05\n",
      "Epoch 4/30\n",
      "24/25 [===========================>..] - ETA: 0s - loss: 0.7241 - accuracy: 0.7012\n",
      "Epoch 4: ReduceLROnPlateau reducing learning rate to 9.999999974752428e-08.\n",
      "25/25 [==============================] - 2s 69ms/step - loss: 0.7231 - accuracy: 0.7020 - val_loss: 0.8489 - val_accuracy: 0.4569 - lr: 1.0000e-06\n",
      "Epoch 5/30\n",
      "24/25 [===========================>..] - ETA: 0s - loss: 0.7100 - accuracy: 0.7116\n",
      "Epoch 5: ReduceLROnPlateau reducing learning rate to 1.0000000116860975e-08.\n",
      "25/25 [==============================] - 2s 69ms/step - loss: 0.7102 - accuracy: 0.7109 - val_loss: 0.8491 - val_accuracy: 0.4569 - lr: 1.0000e-07\n",
      "Epoch 6/30\n",
      "24/25 [===========================>..] - ETA: 0s - loss: 0.7271 - accuracy: 0.7096\n",
      "Epoch 6: ReduceLROnPlateau reducing learning rate to 1e-09.\n",
      "25/25 [==============================] - 2s 69ms/step - loss: 0.7252 - accuracy: 0.7128 - val_loss: 0.8471 - val_accuracy: 0.4695 - lr: 1.0000e-08\n",
      "Epoch 7/30\n",
      "25/25 [==============================] - 2s 69ms/step - loss: 0.7033 - accuracy: 0.7103 - val_loss: 0.8453 - val_accuracy: 0.4772 - lr: 1.0000e-09\n",
      "Epoch 8/30\n",
      "25/25 [==============================] - 2s 69ms/step - loss: 0.7139 - accuracy: 0.7141 - val_loss: 0.8449 - val_accuracy: 0.4975 - lr: 1.0000e-09\n",
      "Epoch 9/30\n",
      "25/25 [==============================] - 2s 69ms/step - loss: 0.7238 - accuracy: 0.7058 - val_loss: 0.8469 - val_accuracy: 0.5178 - lr: 1.0000e-09\n",
      "Epoch 10/30\n",
      "25/25 [==============================] - 2s 69ms/step - loss: 0.7206 - accuracy: 0.6970 - val_loss: 0.8505 - val_accuracy: 0.5152 - lr: 1.0000e-09\n",
      "Epoch 11/30\n",
      "25/25 [==============================] - 2s 69ms/step - loss: 0.7039 - accuracy: 0.7122 - val_loss: 0.8538 - val_accuracy: 0.5635 - lr: 1.0000e-09\n",
      "Epoch 12/30\n",
      "25/25 [==============================] - 2s 69ms/step - loss: 0.7109 - accuracy: 0.7179 - val_loss: 0.8562 - val_accuracy: 0.5711 - lr: 1.0000e-09\n",
      "Epoch 13/30\n",
      "25/25 [==============================] - 2s 70ms/step - loss: 0.7094 - accuracy: 0.7078 - val_loss: 0.8563 - val_accuracy: 0.5888 - lr: 1.0000e-09\n",
      "Epoch 14/30\n",
      "25/25 [==============================] - 2s 70ms/step - loss: 0.7048 - accuracy: 0.7135 - val_loss: 0.8559 - val_accuracy: 0.5838 - lr: 1.0000e-09\n",
      "Epoch 15/30\n",
      "25/25 [==============================] - 2s 69ms/step - loss: 0.7155 - accuracy: 0.7071 - val_loss: 0.8569 - val_accuracy: 0.6041 - lr: 1.0000e-09\n",
      "Epoch 16/30\n",
      "25/25 [==============================] - 2s 70ms/step - loss: 0.7000 - accuracy: 0.7268 - val_loss: 0.8611 - val_accuracy: 0.5914 - lr: 1.0000e-09\n",
      "Epoch 17/30\n",
      "25/25 [==============================] - 2s 70ms/step - loss: 0.7031 - accuracy: 0.7192 - val_loss: 0.8636 - val_accuracy: 0.5888 - lr: 1.0000e-09\n",
      "Epoch 18/30\n",
      "25/25 [==============================] - 2s 70ms/step - loss: 0.7081 - accuracy: 0.7071 - val_loss: 0.8655 - val_accuracy: 0.5761 - lr: 1.0000e-09\n",
      "Epoch 19/30\n",
      "25/25 [==============================] - 2s 70ms/step - loss: 0.6922 - accuracy: 0.7357 - val_loss: 0.8663 - val_accuracy: 0.5787 - lr: 1.0000e-09\n",
      "Epoch 20/30\n",
      "25/25 [==============================] - 2s 69ms/step - loss: 0.7101 - accuracy: 0.7090 - val_loss: 0.8641 - val_accuracy: 0.5787 - lr: 1.0000e-09\n",
      "Epoch 21/30\n",
      "25/25 [==============================] - 2s 69ms/step - loss: 0.7056 - accuracy: 0.7027 - val_loss: 0.8614 - val_accuracy: 0.5685 - lr: 1.0000e-09\n",
      "Epoch 22/30\n",
      "25/25 [==============================] - 2s 70ms/step - loss: 0.7176 - accuracy: 0.7058 - val_loss: 0.8562 - val_accuracy: 0.5761 - lr: 1.0000e-09\n",
      "Epoch 23/30\n",
      "25/25 [==============================] - 2s 71ms/step - loss: 0.7224 - accuracy: 0.6970 - val_loss: 0.8489 - val_accuracy: 0.5812 - lr: 1.0000e-09\n",
      "Epoch 24/30\n",
      "25/25 [==============================] - 2s 71ms/step - loss: 0.7079 - accuracy: 0.7052 - val_loss: 0.8415 - val_accuracy: 0.5863 - lr: 1.0000e-09\n",
      "Epoch 25/30\n",
      "25/25 [==============================] - 2s 71ms/step - loss: 0.7050 - accuracy: 0.7071 - val_loss: 0.8333 - val_accuracy: 0.5964 - lr: 1.0000e-09\n",
      "Epoch 25: early stopping\n"
     ]
    }
   ],
   "source": [
    "history = [0] * nets\n",
    "CallBack = [0] * nets\n",
    "ReduceLR_minlr = [1e-9, 1e-7]\n",
    "epochs = 30\n",
    "batch_size = 64\n",
    "for i in range(nets):\n",
    "    CallBack[i] = [\n",
    "        callbacks.EarlyStopping(monitor='val_accuracy', patience=10, mode='max', verbose=1),\n",
    "        callbacks.ReduceLROnPlateau(factor=0.1, patience=1, min_lr=ReduceLR_minlr[i], verbose=1),\n",
    "        callbacks.TensorBoard(log_dir=\"./log_dir/\"+model_name[i])]\n",
    "history[0] = model[0].fit(X_Gender_train, y_Gender_train,\n",
    "                    batch_size = batch_size,\n",
    "                    epochs = epochs, \n",
    "                    validation_data = (X_Gender_val, y_Gender_val),\n",
    "                    verbose = 1, callbacks= CallBack[0])"
   ]
  },
  {
   "cell_type": "code",
   "execution_count": null,
   "metadata": {
    "colab": {
     "base_uri": "https://localhost:8080/",
     "height": 563
    },
    "id": "O2McCVc8IdNP",
    "outputId": "f2dd2471-a041-4fc4-8448-13d54341679f"
   },
   "outputs": [
    {
     "name": "stdout",
     "output_type": "stream",
     "text": [
      "Id recognition accuracy:  99.83333349227905 %\n"
     ]
    },
    {
     "data": {
      "image/png": "[encoded data removed]",
      "text/plain": [
       "<Figure size 432x288 with 1 Axes>"
      ]
     },
     "metadata": {
      "needs_background": "light"
     },
     "output_type": "display_data"
    },
    {
     "data": {
      "image/png": "[encoded data removed]",
      "text/plain": [
       "<Figure size 432x288 with 1 Axes>"
      ]
     },
     "metadata": {
      "needs_background": "light"
     },
     "output_type": "display_data"
    }
   ],
   "source": [
    "acc = [0] * nets\n",
    "val_acc = [0] * nets\n",
    "loss = [0] * nets\n",
    "val_loss = [0] * nets\n",
    "for i in range(nets):\n",
    "    acc[i] = history[i].history['accuracy']\n",
    "    val_acc[i] = history[i].history['val_accuracy']\n",
    "    loss[i] = history[i].history['loss']\n",
    "    val_loss[i] = history[i].history['val_loss']\n",
    "\n",
    "    epochs = range(1, len(acc[i]) + 1)\n",
    "    # plot figures models\n",
    "    plt.figure()\n",
    "    plt.plot(epochs, acc[i], label='Training acc of '+model_name[i])\n",
    "    plt.plot(epochs, val_acc[i], label='Validation acc of '+model_name[i])\n",
    "    plt.title('Training and validation accuracy of '+model_name[i])\n",
    "    plt.legend()\n",
    "    plt.figure()\n",
    "    plt.plot(epochs, loss[i],  label='Training loss of '+model_name[i])\n",
    "    plt.plot(epochs, val_loss[i], label='Validation loss of '+model_name[i])\n",
    "    plt.title('Training and validation loss of '+model_name[i])\n",
    "    plt.legend()\n",
    "\n",
    "testing_acc_Id = model[0].evaluate([X_test], [y_Gender_test], verbose=0)\n",
    "print(\"Id recognition accuracy: \",testing_acc_Id[1]*100, \"%\")\n",
    "#testing_acc_finger = model[1].evaluate([X_test], [y_fingerNum_test], verbose=0)\n",
    "#print(\"Finger recognition accuracy: \",testing_acc_finger[1]*100, \"%\")"
   ]
  },
  {
   "cell_type": "code",
   "execution_count": 16,
   "metadata": {
    "colab": {
     "base_uri": "https://localhost:8080/"
    },
    "id": "srm1V7Q-_Ko3",
    "outputId": "602f886d-df16-4eb8-b195-11e1ab429a9a"
   },
   "outputs": [
    {
     "name": "stdout",
     "output_type": "stream",
     "text": [
      "16/16 [==============================] - 1s 21ms/step - loss: 0.7656 - accuracy: 0.6545\n"
     ]
    }
   ],
   "source": [
    "test_loss,test_acc = model[0].evaluate(X_Gender_test, y_Gender_test)"
   ]
  },
  {
   "cell_type": "code",
   "execution_count": 17,
   "metadata": {
    "colab": {
     "base_uri": "https://localhost:8080/"
    },
    "id": "CTjryKNg_XLD",
    "outputId": "63fffa8e-7d94-49ec-a269-9912a3dfacb9"
   },
   "outputs": [
    {
     "name": "stdout",
     "output_type": "stream",
     "text": [
      "The testing accuracy of the model - 65.45%\n"
     ]
    }
   ],
   "source": [
    "#accuracy_score\n",
    "print(\"The testing accuracy of the model - \" + str(round(test_acc*100,2)) + \"%\")"
   ]
  },
  {
   "cell_type": "code",
   "execution_count": 18,
   "metadata": {
    "id": "MJR_7LIvtW1y"
   },
   "outputs": [],
   "source": [
    "y_Gender_pred = model[0].predict(X_Gender_test)"
   ]
  },
  {
   "cell_type": "code",
   "execution_count": 19,
   "metadata": {
    "colab": {
     "base_uri": "https://localhost:8080/"
    },
    "id": "NNC6j4pnuUCr",
    "outputId": "880ced7b-126a-408a-948d-6f6f6371b5cf"
   },
   "outputs": [
    {
     "data": {
      "text/plain": [
       "(492, 2)"
      ]
     },
     "execution_count": 19,
     "metadata": {},
     "output_type": "execute_result"
    }
   ],
   "source": [
    "np.shape(y_Gender_pred)"
   ]
  },
  {
   "cell_type": "code",
   "execution_count": 20,
   "metadata": {
    "colab": {
     "base_uri": "https://localhost:8080/"
    },
    "id": "LHFGow8y-sqx",
    "outputId": "cf820f94-7380-4f97-b83e-5fca709af438"
   },
   "outputs": [
    {
     "data": {
      "text/plain": [
       "(492, 2)"
      ]
     },
     "execution_count": 20,
     "metadata": {},
     "output_type": "execute_result"
    }
   ],
   "source": [
    "np.shape(y_Gender_test)"
   ]
  },
  {
   "cell_type": "code",
   "execution_count": 23,
   "metadata": {
    "colab": {
     "base_uri": "https://localhost:8080/",
     "height": 263
    },
    "id": "WXv84jP-YTAI",
    "outputId": "1cc0f23f-8499-4913-c473-81218a490a0a"
   },
   "outputs": [
    {
     "data": {
      "image/png": "[encoded data removed]",
      "text/plain": [
       "<Figure size 432x216 with 1 Axes>"
      ]
     },
     "metadata": {
      "needs_background": "light"
     },
     "output_type": "display_data"
    }
   ],
   "source": [
    "from sklearn.metrics import confusion_matrix\n",
    "from mlxtend.plotting import plot_confusion_matrix\n",
    "import matplotlib.pyplot as plt\n",
    "\n",
    "labels= ['Male', 'Female']\n",
    "cf = confusion_matrix(y_Gender_test.argmax(axis = 1), y_Gender_pred.argmax(axis = 1))\n",
    "fig, ax = plot_confusion_matrix(conf_mat=cf, figsize=(6, 3), cmap=plt.cm.Blues)\n",
    "plt.xlabel('Prediction', fontsize=20)\n",
    "plt.ylabel('Actual', fontsize=20)\n",
    "plt.title('Confusion Matrix', fontsize=20)\n",
    "plt.show()"
   ]
  },
  {
   "cell_type": "code",
   "execution_count": 24,
   "metadata": {
    "colab": {
     "base_uri": "https://localhost:8080/"
    },
    "id": "_vtN8PE__vtG",
    "outputId": "2912cef7-41fe-49e9-89c9-04b51c66106e"
   },
   "outputs": [
    {
     "name": "stdout",
     "output_type": "stream",
     "text": [
      "              precision    recall  f1-score   support\n",
      "\n",
      "           0       0.68      0.54      0.60       238\n",
      "           1       0.64      0.76      0.69       254\n",
      "\n",
      "    accuracy                           0.65       492\n",
      "   macro avg       0.66      0.65      0.65       492\n",
      "weighted avg       0.66      0.65      0.65       492\n",
      "\n"
     ]
    }
   ],
   "source": [
    "from sklearn.metrics import accuracy_score, confusion_matrix, classification_report, recall_score\n",
    "print(classification_report(y_Gender_test.argmax(axis = 1),y_Gender_pred.argmax(axis = 1)))"
   ]
  },
  {
   "cell_type": "markdown",
   "metadata": {
    "id": "OkoO0E5OqT8g"
   },
   "source": [
    "Mobilenet"
   ]
  },
  {
   "cell_type": "code",
   "execution_count": 25,
   "metadata": {
    "id": "kxquA2G2uSIc"
   },
   "outputs": [],
   "source": [
    "import cv2 as cv\n",
    "samples  = X_Gender_train.shape[0]\n",
    "X_MF_train = np.empty((samples,96,96,3),dtype = \"uint8\")\n",
    "for i in range(samples):\n",
    "    img = np.array(X_Gender_train[i], dtype=np.uint8)\n",
    "    grey = cv.resize(img,(96,96))\n",
    "    X_MF_train[i] = cv.cvtColor(grey,cv.COLOR_GRAY2BGR)"
   ]
  },
  {
   "cell_type": "code",
   "execution_count": 26,
   "metadata": {
    "id": "VRJKevyNuiiX"
   },
   "outputs": [],
   "source": [
    "import cv2 as cv\n",
    "samples  = X_Gender_val.shape[0]\n",
    "X_MF_val = np.empty((samples,96,96,3),dtype = \"uint8\")\n",
    "for i in range(samples):\n",
    "    img = np.array(X_Gender_val[i], dtype=np.uint8)\n",
    "    grey = cv.resize(img,(96,96))\n",
    "    X_MF_val[i] = cv.cvtColor(grey,cv.COLOR_GRAY2BGR)"
   ]
  },
  {
   "cell_type": "code",
   "execution_count": 27,
   "metadata": {
    "id": "4wxorggswFii"
   },
   "outputs": [],
   "source": [
    "import cv2 as cv\n",
    "#(X_Gender_test, y_Gender_test\n",
    "samples  = X_Gender_test.shape[0]\n",
    "X_MF_test = np.empty((samples,96,96,3),dtype = \"uint8\")\n",
    "for i in range(samples):\n",
    "    img = np.array(X_Gender_test[i], dtype=np.uint8)\n",
    "    grey = cv.resize(img,(96,96))\n",
    "    X_MF_test[i] = cv.cvtColor(grey,cv.COLOR_GRAY2BGR)"
   ]
  },
  {
   "cell_type": "code",
   "execution_count": 39,
   "metadata": {
    "colab": {
     "base_uri": "https://localhost:8080/"
    },
    "id": "h51D6Zi6q8bn",
    "outputId": "c146566e-d32d-4595-bc77-370eeeca15e9"
   },
   "outputs": [
    {
     "name": "stdout",
     "output_type": "stream",
     "text": [
      "WARNING:tensorflow:`input_shape` is undefined or non-square, or `rows` is not in [128, 160, 192, 224]. Weights for input shape (224, 224) will be loaded as the default.\n"
     ]
    }
   ],
   "source": [
    "from tensorflow.keras.applications import MobileNet\n",
    "from keras.layers import Dense,GlobalAveragePooling2D\n",
    "from tensorflow.keras.models import Model\n",
    "\n",
    "base_model=MobileNet(weights='imagenet',include_top=False) #imports the mobilenet model and discards the last 1000 neuron layer.\n",
    "\n",
    "x=base_model.output\n",
    "x=GlobalAveragePooling2D()(x)\n",
    "x=Dense(512,activation='relu')(x) #we add dense layers so that the model can learn more complex functions and classify for better results.\n",
    "x=Dense(512,activation='relu')(x) #dense layer 2\n",
    "x=Dense(256,activation='relu')(x) #dense layer 3\n",
    "preds=Dense(2,activation='softmax')(x) #final layer with softmax activation"
   ]
  },
  {
   "cell_type": "code",
   "execution_count": 40,
   "metadata": {
    "id": "5DZ6DWi2ndcv"
   },
   "outputs": [],
   "source": [
    "MobileNet_model=Model(inputs=base_model.input,outputs=preds)"
   ]
  },
  {
   "cell_type": "code",
   "execution_count": 42,
   "metadata": {
    "id": "ahJVFyNLssOe"
   },
   "outputs": [],
   "source": [
    "CallBack = [\n",
    "    callbacks.EarlyStopping(monitor='val_accuracy', patience=10, mode='max', verbose=1),\n",
    "    callbacks.ReduceLROnPlateau(factor=0.1, patience=1, min_lr=ReduceLR_minlr[i], verbose=1),\n",
    "    callbacks.TensorBoard(log_dir=\"./log_dir/\"+\"MobileNet_model\")]\n"
   ]
  },
  {
   "cell_type": "code",
   "execution_count": 43,
   "metadata": {
    "colab": {
     "base_uri": "https://localhost:8080/"
    },
    "id": "Xijc0-i-ndcv",
    "outputId": "38d8b522-1db0-4d04-e35c-c161cd88eb43"
   },
   "outputs": [
    {
     "name": "stdout",
     "output_type": "stream",
     "text": [
      "Epoch 1/20\n",
      "25/25 [==============================] - 8s 201ms/step - loss: 0.0968 - accuracy: 0.9676 - val_loss: 2.7626 - val_accuracy: 0.6320\n",
      "Epoch 2/20\n",
      "25/25 [==============================] - 4s 176ms/step - loss: 0.0899 - accuracy: 0.9619 - val_loss: 3.6785 - val_accuracy: 0.6168\n",
      "Epoch 3/20\n",
      "25/25 [==============================] - 4s 176ms/step - loss: 0.1370 - accuracy: 0.9638 - val_loss: 3.7244 - val_accuracy: 0.6371\n",
      "Epoch 4/20\n",
      "25/25 [==============================] - 4s 175ms/step - loss: 0.0979 - accuracy: 0.9714 - val_loss: 3.1891 - val_accuracy: 0.6777\n",
      "Epoch 5/20\n",
      "25/25 [==============================] - 4s 176ms/step - loss: 0.0815 - accuracy: 0.9701 - val_loss: 9.5033 - val_accuracy: 0.6269\n",
      "Epoch 6/20\n",
      "25/25 [==============================] - 4s 177ms/step - loss: 0.0551 - accuracy: 0.9803 - val_loss: 5.5303 - val_accuracy: 0.6371\n",
      "Epoch 7/20\n",
      "25/25 [==============================] - 4s 175ms/step - loss: 0.0603 - accuracy: 0.9822 - val_loss: 5.5670 - val_accuracy: 0.6396\n",
      "Epoch 8/20\n",
      "25/25 [==============================] - 4s 178ms/step - loss: 0.0533 - accuracy: 0.9778 - val_loss: 5.4349 - val_accuracy: 0.6193\n",
      "Epoch 9/20\n",
      "25/25 [==============================] - 4s 176ms/step - loss: 0.0687 - accuracy: 0.9828 - val_loss: 3.2681 - val_accuracy: 0.5838\n",
      "Epoch 10/20\n",
      "25/25 [==============================] - 4s 178ms/step - loss: 0.0526 - accuracy: 0.9835 - val_loss: 3.2554 - val_accuracy: 0.6320\n",
      "Epoch 11/20\n",
      "25/25 [==============================] - 4s 177ms/step - loss: 0.0492 - accuracy: 0.9848 - val_loss: 3.3002 - val_accuracy: 0.5787\n",
      "Epoch 12/20\n",
      "25/25 [==============================] - 4s 176ms/step - loss: 0.0547 - accuracy: 0.9828 - val_loss: 3.2305 - val_accuracy: 0.6320\n",
      "Epoch 13/20\n",
      "25/25 [==============================] - 4s 174ms/step - loss: 0.0513 - accuracy: 0.9873 - val_loss: 8.3594 - val_accuracy: 0.5051\n",
      "Epoch 14/20\n",
      "25/25 [==============================] - 4s 176ms/step - loss: 0.0450 - accuracy: 0.9879 - val_loss: 4.0612 - val_accuracy: 0.5431\n",
      "Epoch 14: early stopping\n"
     ]
    }
   ],
   "source": [
    "MobileNet_model.compile(optimizer = 'adam', loss = 'categorical_crossentropy', metrics = ['accuracy'])\n",
    "history = MobileNet_model.fit(X_MF_train, y_Gender_train, batch_size = 64, epochs = 20, validation_data = (X_MF_val, y_Gender_val),callbacks= CallBack[0])"
   ]
  },
  {
   "cell_type": "code",
   "execution_count": 44,
   "metadata": {
    "colab": {
     "base_uri": "https://localhost:8080/"
    },
    "id": "GAhlJdDRndcv",
    "outputId": "c76888cd-2fb2-40c8-c97e-0cddb5445750"
   },
   "outputs": [
    {
     "name": "stdout",
     "output_type": "stream",
     "text": [
      "16/16 [==============================] - 0s 25ms/step - loss: 3.2350 - accuracy: 0.6077\n"
     ]
    }
   ],
   "source": [
    "test_loss,test_acc = MobileNet_model.evaluate(X_MF_test, y_Gender_test)"
   ]
  },
  {
   "cell_type": "code",
   "execution_count": 45,
   "metadata": {
    "id": "R5gN-Xlur3D0"
   },
   "outputs": [],
   "source": [
    "y_MF_pred = MobileNet_model.predict(X_MF_test)"
   ]
  },
  {
   "cell_type": "code",
   "execution_count": 46,
   "metadata": {
    "colab": {
     "base_uri": "https://localhost:8080/",
     "height": 263
    },
    "id": "efccwiJHndcw",
    "outputId": "417aa623-00f4-4dcc-cb2b-7f7b0abc3279"
   },
   "outputs": [
    {
     "data": {
      "image/png": "[encoded data removed]",
      "text/plain": [
       "<Figure size 432x216 with 1 Axes>"
      ]
     },
     "metadata": {
      "needs_background": "light"
     },
     "output_type": "display_data"
    }
   ],
   "source": [
    "from sklearn.metrics import confusion_matrix\n",
    "from mlxtend.plotting import plot_confusion_matrix\n",
    "import matplotlib.pyplot as plt\n",
    "\n",
    "labels= ['Male', 'Female']\n",
    "cf = confusion_matrix(y_Gender_test.argmax(axis = 1), y_MF_pred.argmax(axis = 1))\n",
    "fig, ax = plot_confusion_matrix(conf_mat=cf, figsize=(6, 3), cmap=plt.cm.Blues)\n",
    "plt.xlabel('Prediction', fontsize=20)\n",
    "plt.ylabel('Actual', fontsize=20)\n",
    "plt.title('Confusion Matrix', fontsize=20)\n",
    "plt.show()"
   ]
  },
  {
   "cell_type": "code",
   "execution_count": 47,
   "metadata": {
    "colab": {
     "base_uri": "https://localhost:8080/"
    },
    "id": "EBPJMlHHndcw",
    "outputId": "f980e5c4-48ab-411e-f917-cd1bc419d90d"
   },
   "outputs": [
    {
     "name": "stdout",
     "output_type": "stream",
     "text": [
      "              precision    recall  f1-score   support\n",
      "\n",
      "           0       0.62      0.49      0.55       238\n",
      "           1       0.60      0.72      0.65       254\n",
      "\n",
      "    accuracy                           0.61       492\n",
      "   macro avg       0.61      0.60      0.60       492\n",
      "weighted avg       0.61      0.61      0.60       492\n",
      "\n"
     ]
    }
   ],
   "source": [
    "from sklearn.metrics import accuracy_score, confusion_matrix, classification_report, recall_score\n",
    "print(classification_report(y_Gender_test.argmax(axis = 1),y_MF_pred.argmax(axis = 1)))"
   ]
  },
  {
   "cell_type": "code",
   "execution_count": null,
   "metadata": {
    "id": "gjQnMiTerdB5"
   },
   "outputs": [],
   "source": []
  }
 ],
 "metadata": {
  "accelerator": "GPU",
  "colab": {
   "collapsed_sections": [],
   "name": "Gender(CNN+MobileNet)_WithReal.ipynb",
   "provenance": []
  },
  "kernelspec": {
   "display_name": "Python 3",
   "language": "python",
   "name": "python3"
  },
  "language_info": {
   "codemirror_mode": {
    "name": "ipython",
    "version": 3
   },
   "file_extension": ".py",
   "mimetype": "text/x-python",
   "name": "python",
   "nbconvert_exporter": "python",
   "pygments_lexer": "ipython3",
   "version": "3.7.4"
  }
 },
 "nbformat": 4,
 "nbformat_minor": 1
}
