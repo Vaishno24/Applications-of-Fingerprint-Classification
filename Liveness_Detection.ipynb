{
 "cells": [
  {
   "cell_type": "code",
   "execution_count": 1,
   "metadata": {
    "colab": {
     "base_uri": "https://localhost:8080/"
    },
    "id": "O1SC5CKItbYy",
    "outputId": "fd17b0ad-162d-4090-8f33-54597338eb28"
   },
   "outputs": [
    {
     "name": "stdout",
     "output_type": "stream",
     "text": [
      "Mounted at /content/drive\n"
     ]
    }
   ],
   "source": [
    "from google.colab import drive\n",
    "drive.mount('/content/drive')"
   ]
  },
  {
   "cell_type": "code",
   "execution_count": 2,
   "metadata": {
    "id": "33pdYZCdIdM8"
   },
   "outputs": [],
   "source": [
    "import cv2, os\n",
    "import random\n",
    "import itertools\n",
    "import numpy as np\n",
    "import seaborn as sns\n",
    "import matplotlib.pyplot as plt\n",
    "\n",
    "from tensorflow.keras.models import Sequential\n",
    "from tensorflow.keras.utils import to_categorical, plot_model\n",
    "from tensorflow.keras.preprocessing.image import ImageDataGenerator\n",
    "from tensorflow.keras import layers, regularizers, optimizers, callbacks\n",
    "from sklearn.model_selection import train_test_split\n",
    "from sklearn.metrics import confusion_matrix\n",
    "\n",
    "import random\n",
    "import warnings\n",
    "warnings.filterwarnings('ignore')"
   ]
  },
  {
   "cell_type": "code",
   "execution_count": null,
   "metadata": {
    "id": "UXyPdo6Pwsv1"
   },
   "outputs": [],
   "source": [
    "img_size = 96\n",
    "\n",
    "def load_real_data(path, train=True):\n",
    "    print(\"Loading data from: \", path)\n",
    "    data = []\n",
    "    for img in os.listdir(path):\n",
    "        imgname, ext = os.path.splitext(img)\n",
    "        ID, etc = imgname.split('__')\n",
    "        ID = int(ID) - 1 # to_categorical encodes starting from 0\n",
    "        if train:\n",
    "            _, lr, finger, _, _ = etc.split('_')\n",
    "        else:\n",
    "            _, lr, finger, _  = etc.split('_')\n",
    "        if lr=='Left':\n",
    "            base = 0 # left hand corresponding to 0-4\n",
    "        else: base  = 5 # right hand corresponding to 5-9\n",
    "        if finger==\"little\":\n",
    "            fingerNum = base + 0\n",
    "        elif finger=='ring':\n",
    "            fingerNum = base + 1\n",
    "        elif finger=='middle':\n",
    "            fingerNum = base + 2\n",
    "        elif finger=='index':\n",
    "            fingerNum = base + 3 \n",
    "        else: fingerNum = base + 4\n",
    "        img_array = cv2.imread(os.path.join(path, img), cv2.IMREAD_GRAYSCALE)\n",
    "        img_resize = cv2.resize(img_array, (img_size, img_size))\n",
    "        data.append([ID, fingerNum, img_resize,\"Real\"])\n",
    "    return data"
   ]
  },
  {
   "cell_type": "code",
   "execution_count": null,
   "metadata": {
    "id": "QuUVrW-fwsv2"
   },
   "outputs": [],
   "source": [
    "img_size = 96\n",
    "\n",
    "def load_fake_data(path, train=True):\n",
    "    print(\"Loading data from: \", path)\n",
    "    data = []\n",
    "    for img in os.listdir(path):\n",
    "        imgname, ext = os.path.splitext(img)\n",
    "        ID, etc = imgname.split('__')\n",
    "        ID = int(ID) - 1 # to_categorical encodes starting from 0\n",
    "        if train:\n",
    "            _, lr, finger, _, _ = etc.split('_')\n",
    "        else:\n",
    "            _, lr, finger, _  = etc.split('_')\n",
    "        if lr=='Left':\n",
    "            base = 0 # left hand corresponding to 0-4\n",
    "        else: base  = 5 # right hand corresponding to 5-9\n",
    "        if finger==\"little\":\n",
    "            fingerNum = base + 0\n",
    "        elif finger=='ring':\n",
    "            fingerNum = base + 1\n",
    "        elif finger=='middle':\n",
    "            fingerNum = base + 2\n",
    "        elif finger=='index':\n",
    "            fingerNum = base + 3 \n",
    "        else: fingerNum = base + 4\n",
    "        img_array = cv2.imread(os.path.join(path, img), cv2.IMREAD_GRAYSCALE)\n",
    "        img_resize = cv2.resize(img_array, (img_size, img_size))\n",
    "        data.append([ID, fingerNum, img_resize,\"Fake\"])\n",
    "    return data"
   ]
  },
  {
   "cell_type": "code",
   "execution_count": null,
   "metadata": {
    "id": "eEp7-vzXtRLS",
    "outputId": "7cca2911-881a-4de8-8ea9-2cc0d3dadc14"
   },
   "outputs": [
    {
     "name": "stdout",
     "output_type": "stream",
     "text": [
      "Loading data from:  dataset/Altered/Altered-Easy\n",
      "Loading data from:  dataset/Altered/Altered-Medium\n",
      "Loading data from:  dataset/Altered/Altered-Hard\n",
      "Loading data from:  dataset/Real\n"
     ]
    }
   ],
   "source": [
    "Altered_path = \"dataset/Altered/Altered-\"\n",
    "Real_path = \"dataset/Real\"\n",
    "\n",
    "Easy_data = load_fake_data(Altered_path+'Easy', train=True)\n",
    "Medium_data = load_fake_data(Altered_path+'Medium', train=True)\n",
    "Hard_data = load_fake_data(Altered_path+'Hard', train=True)\n",
    "Real_data = load_real_data(Real_path, train=False)\n",
    "\n",
    "Altered_data = np.concatenate([Easy_data, Medium_data, Hard_data], axis=0)"
   ]
  },
  {
   "cell_type": "code",
   "execution_count": 3,
   "metadata": {
    "id": "rM01vX3TxG3P"
   },
   "outputs": [],
   "source": [
    "data = np.load('/content/drive/MyDrive/D/data.npy',allow_pickle=True)"
   ]
  },
  {
   "cell_type": "code",
   "execution_count": null,
   "metadata": {
    "id": "8OVYZ9xJwsv4"
   },
   "outputs": [],
   "source": [
    "import random\n",
    "from sklearn.utils import shuffle\n",
    "easy_random = random.sample(Easy_data, 2000)\n",
    "med_random = random.sample(Medium_data, 2000)\n",
    "hard_random = random.sample(Hard_data, 2000)\n",
    "\n",
    "data = np.concatenate([Real_data, easy_random, med_random, hard_random], axis=0)\n",
    "data = shuffle(data)"
   ]
  },
  {
   "cell_type": "code",
   "execution_count": null,
   "metadata": {
    "id": "1AikU3yvwsv5"
   },
   "outputs": [],
   "source": [
    "np.save(\"data.npy\",data)"
   ]
  },
  {
   "cell_type": "code",
   "execution_count": 4,
   "metadata": {
    "colab": {
     "base_uri": "https://localhost:8080/"
    },
    "id": "G6849P3twsv6",
    "outputId": "8afe4d66-4aa8-4258-998a-7bbecb6f2e58"
   },
   "outputs": [
    {
     "data": {
      "text/plain": [
       "(12000, 4)"
      ]
     },
     "execution_count": 4,
     "metadata": {},
     "output_type": "execute_result"
    }
   ],
   "source": [
    "np.shape(data)"
   ]
  },
  {
   "cell_type": "code",
   "execution_count": 5,
   "metadata": {
    "id": "cbDbPIdRwsv7"
   },
   "outputs": [],
   "source": [
    "X_data, y_data = [], []\n",
    "\n",
    "for _, _, feature, liveness in data:\n",
    "    X_data.append(feature)\n",
    "    y_data.append(liveness)"
   ]
  },
  {
   "cell_type": "code",
   "execution_count": 8,
   "metadata": {
    "id": "GDDcGkajwsv7"
   },
   "outputs": [],
   "source": [
    "img_size = 96\n",
    "X_data = np.array(X_data).reshape(-1, img_size, img_size, 1)\n",
    "X_data = X_data /255.0 # Normalize to [0, 1]"
   ]
  },
  {
   "cell_type": "code",
   "execution_count": 9,
   "metadata": {
    "colab": {
     "base_uri": "https://localhost:8080/"
    },
    "id": "qEXV91liwsv7",
    "outputId": "c6cdf3d2-4778-43b5-da32-31ffd923aa7a"
   },
   "outputs": [
    {
     "data": {
      "text/plain": [
       "array([[1., 0.],\n",
       "       [0., 1.],\n",
       "       [0., 1.],\n",
       "       ...,\n",
       "       [0., 1.],\n",
       "       [1., 0.],\n",
       "       [0., 1.]], dtype=float32)"
      ]
     },
     "execution_count": 9,
     "metadata": {},
     "output_type": "execute_result"
    }
   ],
   "source": [
    "from sklearn import preprocessing\n",
    "label_encoder = preprocessing.LabelEncoder()\n",
    "y_data = label_encoder.fit_transform(y_data)  # Real ->  1    Fake -> 0\n",
    "y_data = to_categorical(y_data)\n",
    "y_data   # column1 -> Fake    column2 -> Real"
   ]
  },
  {
   "cell_type": "code",
   "execution_count": 10,
   "metadata": {
    "id": "fL3KQIUswsv8"
   },
   "outputs": [],
   "source": [
    "X_train, x_test, Y_train, y_test = train_test_split(X_data, y_data, test_size=0.2, random_state=12)\n",
    "x_train, x_val, y_train, y_val = train_test_split(X_train, Y_train, test_size=0.2, random_state=42)"
   ]
  },
  {
   "cell_type": "code",
   "execution_count": 11,
   "metadata": {
    "colab": {
     "base_uri": "https://localhost:8080/"
    },
    "id": "-FkxzTl3wsv8",
    "outputId": "268e200c-cb60-469d-ff34-b6c94b9ec7e7"
   },
   "outputs": [
    {
     "name": "stdout",
     "output_type": "stream",
     "text": [
      "Shapes:                  Feature shape    label shape\n",
      "----------------------------------------------------\n",
      "Gender_Train:       (7680, 96, 96, 1) (7680, 2)\n",
      "Gender_Validation:  (1920, 96, 96, 1) (1920, 2)\n",
      "Gender_Test:        (2400, 96, 96, 1) (2400, 2)\n"
     ]
    }
   ],
   "source": [
    "print(\"Shapes:                  Feature shape    label shape\")\n",
    "print(\"----------------------------------------------------\")\n",
    "print(\"Gender_Train:      \", np.shape(x_train), np.shape(y_train))\n",
    "print(\"Gender_Validation: \", np.shape(x_val), np.shape(y_val))\n",
    "print(\"Gender_Test:       \", np.shape(x_test), np.shape(y_test))"
   ]
  },
  {
   "cell_type": "code",
   "execution_count": null,
   "metadata": {
    "colab": {
     "base_uri": "https://localhost:8080/"
    },
    "id": "Fqv_1GWSIdNH",
    "outputId": "35387f02-ea50-4464-9427-2362a0e4ac88"
   },
   "outputs": [
    {
     "name": "stdout",
     "output_type": "stream",
     "text": [
      "Model: \"liveness_Mod\"\n",
      "_________________________________________________________________\n",
      " Layer (type)                Output Shape              Param #   \n",
      "=================================================================\n",
      " conv2d_6 (Conv2D)           (None, 92, 92, 32)        832       \n",
      "                                                                 \n",
      " batch_normalization_6 (Batc  (None, 92, 92, 32)       128       \n",
      " hNormalization)                                                 \n",
      "                                                                 \n",
      " max_pooling2d_6 (MaxPooling  (None, 46, 46, 32)       0         \n",
      " 2D)                                                             \n",
      "                                                                 \n",
      " conv2d_7 (Conv2D)           (None, 42, 42, 64)        51264     \n",
      "                                                                 \n",
      " batch_normalization_7 (Batc  (None, 42, 42, 64)       256       \n",
      " hNormalization)                                                 \n",
      "                                                                 \n",
      " max_pooling2d_7 (MaxPooling  (None, 21, 21, 64)       0         \n",
      " 2D)                                                             \n",
      "                                                                 \n",
      " conv2d_8 (Conv2D)           (None, 19, 19, 128)       73856     \n",
      "                                                                 \n",
      " batch_normalization_8 (Batc  (None, 19, 19, 128)      512       \n",
      " hNormalization)                                                 \n",
      "                                                                 \n",
      " max_pooling2d_8 (MaxPooling  (None, 9, 9, 128)        0         \n",
      " 2D)                                                             \n",
      "                                                                 \n",
      " dropout_4 (Dropout)         (None, 9, 9, 128)         0         \n",
      "                                                                 \n",
      " flatten_2 (Flatten)         (None, 10368)             0         \n",
      "                                                                 \n",
      " dense_4 (Dense)             (None, 256)               2654464   \n",
      "                                                                 \n",
      " dropout_5 (Dropout)         (None, 256)               0         \n",
      "                                                                 \n",
      " dense_5 (Dense)             (None, 2)                 514       \n",
      "                                                                 \n",
      "=================================================================\n",
      "Total params: 2,781,826\n",
      "Trainable params: 2,781,378\n",
      "Non-trainable params: 448\n",
      "_________________________________________________________________\n"
     ]
    }
   ],
   "source": [
    "nets = 1\n",
    "model = [0] * nets\n",
    "final_Dense_units = [2]\n",
    "model_name = ['liveness_Mod']\n",
    "for i in range(nets):\n",
    "    model[i] = Sequential(name=model_name[i])\n",
    "\n",
    "    model[i].add(layers.Conv2D(32, (5, 5), activation='relu', kernel_regularizer=regularizers.l2(0.001), input_shape = (96, 96,1)))\n",
    "    model[i].add(layers.BatchNormalization())\n",
    "    model[i].add(layers.MaxPool2D((2, 2)))\n",
    "    model[i].add(layers.Conv2D(64,(5, 5), activation='relu', kernel_regularizer=regularizers.l2(0.001)))\n",
    "    model[i].add(layers.BatchNormalization())\n",
    "    model[i].add(layers.MaxPool2D((2, 2)))\n",
    "    model[i].add(layers.Conv2D(128,(3, 3), activation='relu', kernel_regularizer=regularizers.l2(0.001)))\n",
    "    model[i].add(layers.BatchNormalization())\n",
    "    model[i].add(layers.MaxPool2D((2, 2)))\n",
    "    model[i].add(layers.Dropout(0.3))\n",
    "    model[i].add(layers.Flatten())\n",
    "    model[i].add(layers.Dense(256, activation='relu'))\n",
    "    model[i].add(layers.Dropout(0.4))\n",
    "    model[i].add(layers.Dense(final_Dense_units[i], activation='softmax'))\n",
    "\n",
    "    # Complete with Adam optimizer and entropy cost\n",
    "    model[i].compile(optimizer=optimizers.Adam(learning_rate=0.0001), loss=\"categorical_crossentropy\", metrics=[\"accuracy\"])\n",
    "    model[i].summary()"
   ]
  },
  {
   "cell_type": "code",
   "execution_count": null,
   "metadata": {
    "colab": {
     "base_uri": "https://localhost:8080/"
    },
    "id": "YQCUy40xIdNJ",
    "outputId": "7f11be56-4f6c-4aaa-b77f-19237338f795"
   },
   "outputs": [
    {
     "name": "stdout",
     "output_type": "stream",
     "text": [
      "Epoch 1/50\n",
      "120/120 [==============================] - 56s 458ms/step - loss: 0.7739 - accuracy: 0.7520 - val_loss: 2.2702 - val_accuracy: 0.5089 - lr: 1.0000e-04\n",
      "Epoch 2/50\n",
      "120/120 [==============================] - ETA: 0s - loss: 0.4912 - accuracy: 0.8512\n",
      "Epoch 2: ReduceLROnPlateau reducing learning rate to 9.999999747378752e-06.\n",
      "120/120 [==============================] - 51s 428ms/step - loss: 0.4912 - accuracy: 0.8512 - val_loss: 3.0474 - val_accuracy: 0.5089 - lr: 1.0000e-04\n",
      "Epoch 3/50\n",
      "120/120 [==============================] - 53s 440ms/step - loss: 0.4116 - accuracy: 0.8820 - val_loss: 2.2672 - val_accuracy: 0.5354 - lr: 1.0000e-05\n",
      "Epoch 4/50\n",
      "120/120 [==============================] - 51s 427ms/step - loss: 0.4013 - accuracy: 0.8893 - val_loss: 1.1672 - val_accuracy: 0.6729 - lr: 1.0000e-05\n",
      "Epoch 5/50\n",
      "120/120 [==============================] - 51s 424ms/step - loss: 0.3907 - accuracy: 0.8940 - val_loss: 0.5598 - val_accuracy: 0.8349 - lr: 1.0000e-05\n",
      "Epoch 6/50\n",
      "120/120 [==============================] - 50s 421ms/step - loss: 0.3846 - accuracy: 0.8971 - val_loss: 0.4354 - val_accuracy: 0.8797 - lr: 1.0000e-05\n",
      "Epoch 7/50\n",
      "120/120 [==============================] - 50s 420ms/step - loss: 0.3710 - accuracy: 0.9016 - val_loss: 0.4093 - val_accuracy: 0.8922 - lr: 1.0000e-05\n",
      "Epoch 8/50\n",
      "120/120 [==============================] - 50s 415ms/step - loss: 0.3716 - accuracy: 0.9053 - val_loss: 0.4033 - val_accuracy: 0.8974 - lr: 1.0000e-05\n",
      "Epoch 9/50\n",
      "120/120 [==============================] - 50s 414ms/step - loss: 0.3629 - accuracy: 0.9079 - val_loss: 0.4028 - val_accuracy: 0.8984 - lr: 1.0000e-05\n",
      "Epoch 10/50\n",
      "120/120 [==============================] - 50s 419ms/step - loss: 0.3580 - accuracy: 0.9089 - val_loss: 0.3994 - val_accuracy: 0.8958 - lr: 1.0000e-05\n",
      "Epoch 11/50\n",
      "120/120 [==============================] - ETA: 0s - loss: 0.3423 - accuracy: 0.9151\n",
      "Epoch 11: ReduceLROnPlateau reducing learning rate to 9.999999747378752e-07.\n",
      "120/120 [==============================] - 50s 417ms/step - loss: 0.3423 - accuracy: 0.9151 - val_loss: 0.4017 - val_accuracy: 0.8984 - lr: 1.0000e-05\n",
      "Epoch 12/50\n",
      "120/120 [==============================] - 49s 410ms/step - loss: 0.3376 - accuracy: 0.9159 - val_loss: 0.3949 - val_accuracy: 0.8990 - lr: 1.0000e-06\n",
      "Epoch 13/50\n",
      "120/120 [==============================] - ETA: 0s - loss: 0.3386 - accuracy: 0.9161\n",
      "Epoch 13: ReduceLROnPlateau reducing learning rate to 9.999999974752428e-08.\n",
      "120/120 [==============================] - 49s 412ms/step - loss: 0.3386 - accuracy: 0.9161 - val_loss: 0.3964 - val_accuracy: 0.8979 - lr: 1.0000e-06\n",
      "Epoch 14/50\n",
      "120/120 [==============================] - ETA: 0s - loss: 0.3414 - accuracy: 0.9161\n",
      "Epoch 14: ReduceLROnPlateau reducing learning rate to 1.0000000116860975e-08.\n",
      "120/120 [==============================] - 49s 411ms/step - loss: 0.3414 - accuracy: 0.9161 - val_loss: 0.3967 - val_accuracy: 0.8990 - lr: 1.0000e-07\n",
      "Epoch 15/50\n",
      "120/120 [==============================] - ETA: 0s - loss: 0.3357 - accuracy: 0.9202\n",
      "Epoch 15: ReduceLROnPlateau reducing learning rate to 1e-09.\n",
      "120/120 [==============================] - 51s 423ms/step - loss: 0.3357 - accuracy: 0.9202 - val_loss: 0.3965 - val_accuracy: 0.8984 - lr: 1.0000e-08\n",
      "Epoch 16/50\n",
      "120/120 [==============================] - 50s 415ms/step - loss: 0.3347 - accuracy: 0.9204 - val_loss: 0.3969 - val_accuracy: 0.8990 - lr: 1.0000e-09\n",
      "Epoch 17/50\n",
      "120/120 [==============================] - 49s 409ms/step - loss: 0.3366 - accuracy: 0.9133 - val_loss: 0.3969 - val_accuracy: 0.8990 - lr: 1.0000e-09\n",
      "Epoch 18/50\n",
      "120/120 [==============================] - 49s 412ms/step - loss: 0.3330 - accuracy: 0.9191 - val_loss: 0.3966 - val_accuracy: 0.8990 - lr: 1.0000e-09\n",
      "Epoch 19/50\n",
      "120/120 [==============================] - 49s 409ms/step - loss: 0.3361 - accuracy: 0.9173 - val_loss: 0.3968 - val_accuracy: 0.8990 - lr: 1.0000e-09\n",
      "Epoch 20/50\n",
      "120/120 [==============================] - 49s 406ms/step - loss: 0.3382 - accuracy: 0.9148 - val_loss: 0.3970 - val_accuracy: 0.8990 - lr: 1.0000e-09\n",
      "Epoch 21/50\n",
      "120/120 [==============================] - 49s 407ms/step - loss: 0.3395 - accuracy: 0.9203 - val_loss: 0.3967 - val_accuracy: 0.8990 - lr: 1.0000e-09\n",
      "Epoch 22/50\n",
      "120/120 [==============================] - 49s 408ms/step - loss: 0.3302 - accuracy: 0.9204 - val_loss: 0.3966 - val_accuracy: 0.8990 - lr: 1.0000e-09\n",
      "Epoch 22: early stopping\n"
     ]
    }
   ],
   "source": [
    "history = [0] * nets\n",
    "CallBack = [0] * nets\n",
    "ReduceLR_minlr = [1e-9, 1e-7]\n",
    "epochs = 50\n",
    "batch_size = 64\n",
    "for i in range(nets):\n",
    "    CallBack[i] = [\n",
    "        callbacks.EarlyStopping(monitor='val_accuracy', patience=10, mode='max', verbose=1),\n",
    "        callbacks.ReduceLROnPlateau(factor=0.1, patience=1, min_lr=ReduceLR_minlr[i], verbose=1),\n",
    "        callbacks.TensorBoard(log_dir=\"./log_dir/\"+model_name[i])]\n",
    "history[0] = model[0].fit(x_train, y_train,\n",
    "                    batch_size = batch_size,\n",
    "                    epochs = epochs, \n",
    "                    validation_data = (x_val, y_val),\n",
    "                    verbose = 1, callbacks= CallBack[0])"
   ]
  },
  {
   "cell_type": "code",
   "execution_count": null,
   "metadata": {
    "id": "9m7A8fkuwsv-",
    "outputId": "2e05c2f6-7383-4e70-85aa-ff208d9f9f7a"
   },
   "outputs": [
    {
     "data": {
      "image/png": "[encoded data removed]",
      "text/plain": [
       "<Figure size 432x288 with 1 Axes>"
      ]
     },
     "metadata": {
      "needs_background": "light"
     },
     "output_type": "display_data"
    },
    {
     "data": {
      "image/png": "[encoded data removed]",
      "text/plain": [
       "<Figure size 432x288 with 1 Axes>"
      ]
     },
     "metadata": {
      "needs_background": "light"
     },
     "output_type": "display_data"
    }
   ],
   "source": [
    "acc = [0] * nets\n",
    "val_acc = [0] * nets\n",
    "loss = [0] * nets\n",
    "val_loss = [0] * nets\n",
    "for i in range(nets):\n",
    "    acc[i] = history[i].history['accuracy']\n",
    "    val_acc[i] = history[i].history['val_accuracy']\n",
    "    loss[i] = history[i].history['loss']\n",
    "    val_loss[i] = history[i].history['val_loss']\n",
    "\n",
    "    epochs = range(1, len(acc[i]) + 1)\n",
    "    # plot figures models\n",
    "    plt.figure()\n",
    "    plt.plot(epochs, acc[i], label='Training acc of '+model_name[i])\n",
    "    plt.plot(epochs, val_acc[i], label='Validation acc of '+model_name[i])\n",
    "    plt.title('Training and validation accuracy of '+model_name[i])\n",
    "    plt.legend()\n",
    "    plt.figure()\n",
    "    plt.plot(epochs, loss[i],  label='Training loss of '+model_name[i])\n",
    "    plt.plot(epochs, val_loss[i], label='Validation loss of '+model_name[i])\n",
    "    plt.title('Training and validation loss of '+model_name[i])\n",
    "    plt.legend()"
   ]
  },
  {
   "cell_type": "code",
   "execution_count": null,
   "metadata": {
    "colab": {
     "base_uri": "https://localhost:8080/"
    },
    "id": "srm1V7Q-_Ko3",
    "outputId": "cfbd1bf3-68b2-48dd-ef11-94a4896e1e41"
   },
   "outputs": [
    {
     "name": "stdout",
     "output_type": "stream",
     "text": [
      "75/75 [==============================] - 4s 54ms/step - loss: 0.4357 - accuracy: 0.8813\n"
     ]
    }
   ],
   "source": [
    "test_loss,test_acc = model[0].evaluate(x_test, y_test)"
   ]
  },
  {
   "cell_type": "code",
   "execution_count": null,
   "metadata": {
    "colab": {
     "base_uri": "https://localhost:8080/"
    },
    "id": "CTjryKNg_XLD",
    "outputId": "0d75c2bf-e6b1-432e-bbdb-6e35b618fe41"
   },
   "outputs": [
    {
     "name": "stdout",
     "output_type": "stream",
     "text": [
      "The testing accuracy of the model - 88.13%\n"
     ]
    }
   ],
   "source": [
    "#accuracy_score\n",
    "print(\"The testing accuracy of the model - \" + str(round(test_acc*100,2)) + \"%\")"
   ]
  },
  {
   "cell_type": "code",
   "execution_count": null,
   "metadata": {
    "id": "MJR_7LIvtW1y"
   },
   "outputs": [],
   "source": [
    "y_pred = model[0].predict(x_test)"
   ]
  },
  {
   "cell_type": "code",
   "execution_count": null,
   "metadata": {
    "colab": {
     "base_uri": "https://localhost:8080/",
     "height": 606
    },
    "id": "WXv84jP-YTAI",
    "outputId": "ead5efd5-10b9-4729-89e4-48389d0e2b9c"
   },
   "outputs": [
    {
     "data": {
      "image/png": "[encoded data removed]",
      "text/plain": [
       "<Figure size 648x432 with 1 Axes>"
      ]
     },
     "metadata": {
      "needs_background": "light"
     },
     "output_type": "display_data"
    }
   ],
   "source": [
    "from sklearn.metrics import confusion_matrix\n",
    "from mlxtend.plotting import plot_confusion_matrix\n",
    "import matplotlib.pyplot as plt\n",
    "\n",
    "labels= ['Fake', 'Real']\n",
    "cf = confusion_matrix(y_test.argmax(axis = 1), y_pred.argmax(axis = 1))\n",
    "fig, ax = plot_confusion_matrix(conf_mat=cf,class_names=labels, figsize=(9, 6))\n",
    "plt.xlabel('Prediction', fontsize=20)\n",
    "plt.ylabel('Actual', fontsize=20)\n",
    "plt.title('Confusion Matrix', fontsize=20)\n",
    "plt.show()"
   ]
  },
  {
   "cell_type": "code",
   "execution_count": null,
   "metadata": {
    "colab": {
     "base_uri": "https://localhost:8080/"
    },
    "id": "_vtN8PE__vtG",
    "outputId": "08de1a7a-08e2-4f1b-d1e0-d56d03a9bf18"
   },
   "outputs": [
    {
     "name": "stdout",
     "output_type": "stream",
     "text": [
      "              precision    recall  f1-score   support\n",
      "\n",
      "           0       0.95      0.80      0.87      1195\n",
      "           1       0.83      0.96      0.89      1205\n",
      "\n",
      "    accuracy                           0.88      2400\n",
      "   macro avg       0.89      0.88      0.88      2400\n",
      "weighted avg       0.89      0.88      0.88      2400\n",
      "\n"
     ]
    }
   ],
   "source": [
    "from sklearn.metrics import accuracy_score, confusion_matrix, classification_report, recall_score\n",
    "print(classification_report(y_test.argmax(axis = 1),y_pred.argmax(axis = 1)))"
   ]
  },
  {
   "cell_type": "markdown",
   "metadata": {
    "id": "OkoO0E5OqT8g"
   },
   "source": [
    "## MobileNet"
   ]
  },
  {
   "cell_type": "code",
   "execution_count": 12,
   "metadata": {
    "id": "kxquA2G2uSIc"
   },
   "outputs": [],
   "source": [
    "import cv2 as cv\n",
    "samples  = x_train.shape[0]\n",
    "X_train = np.empty((samples,96,96,3),dtype = \"uint8\")\n",
    "for i in range(samples):\n",
    "    img = np.array(x_train[i], dtype=np.uint8)\n",
    "    grey = cv.resize(img,(96,96))\n",
    "    X_train[i] = cv.cvtColor(grey,cv.COLOR_GRAY2BGR)"
   ]
  },
  {
   "cell_type": "code",
   "execution_count": 13,
   "metadata": {
    "id": "VRJKevyNuiiX"
   },
   "outputs": [],
   "source": [
    "import cv2 as cv\n",
    "samples  = x_val.shape[0]\n",
    "X_val = np.empty((samples,96,96,3),dtype = \"uint8\")\n",
    "for i in range(samples):\n",
    "    img = np.array(x_val[i], dtype=np.uint8)\n",
    "    grey = cv.resize(img,(96,96))\n",
    "    X_val[i] = cv.cvtColor(grey,cv.COLOR_GRAY2BGR)"
   ]
  },
  {
   "cell_type": "code",
   "execution_count": 14,
   "metadata": {
    "id": "4wxorggswFii"
   },
   "outputs": [],
   "source": [
    "import cv2 as cv\n",
    "samples  = x_test.shape[0]\n",
    "X_test = np.empty((samples,96,96,3),dtype = \"uint8\")\n",
    "for i in range(samples):\n",
    "    img = np.array(x_test[i], dtype=np.uint8)\n",
    "    grey = cv.resize(img,(96,96))\n",
    "    X_test[i] = cv.cvtColor(grey,cv.COLOR_GRAY2BGR)"
   ]
  },
  {
   "cell_type": "code",
   "execution_count": 15,
   "metadata": {
    "colab": {
     "base_uri": "https://localhost:8080/"
    },
    "id": "TpNtMG7rwswD",
    "outputId": "259acb2c-c1ff-4da0-8b02-e96527c95623"
   },
   "outputs": [
    {
     "name": "stdout",
     "output_type": "stream",
     "text": [
      "Shapes:                  Feature shape    label shape\n",
      "----------------------------------------------------\n",
      "Gender_Train:       (7680, 96, 96, 3) (7680, 2)\n",
      "Gender_Validation:  (1920, 96, 96, 3) (1920, 2)\n",
      "Gender_Test:        (2400, 96, 96, 3) (2400, 2)\n"
     ]
    }
   ],
   "source": [
    "print(\"Shapes:                  Feature shape    label shape\")\n",
    "print(\"----------------------------------------------------\")\n",
    "print(\"Gender_Train:      \", np.shape(X_train), np.shape(y_train))\n",
    "print(\"Gender_Validation: \", np.shape(X_val), np.shape(y_val))\n",
    "print(\"Gender_Test:       \", np.shape(X_test), np.shape(y_test))"
   ]
  },
  {
   "cell_type": "code",
   "execution_count": 16,
   "metadata": {
    "id": "h51D6Zi6q8bn"
   },
   "outputs": [],
   "source": [
    "import numpy as np\n",
    "import matplotlib.pyplot as plt\n",
    "from sklearn.model_selection import train_test_split\n",
    "import tensorflow as tf\n",
    "from keras.layers import Dense, Dropout, Conv2D, MaxPooling2D, Flatten\n",
    "from keras.utils import np_utils\n",
    "from tensorflow.keras.optimizers import Adam\n",
    "from sklearn.metrics import accuracy_score, confusion_matrix, classification_report, recall_score\n",
    "from mlxtend.plotting import plot_confusion_matrix\n",
    "from tensorflow.keras import datasets, layers, models, losses\n",
    "from tensorflow.keras.losses import sparse_categorical_crossentropy\n",
    "from tensorflow.keras.layers import BatchNormalization\n",
    "from keras.layers import Dense,GlobalAveragePooling2D"
   ]
  },
  {
   "cell_type": "code",
   "execution_count": 17,
   "metadata": {
    "colab": {
     "base_uri": "https://localhost:8080/"
    },
    "id": "OifBeq4zqThL",
    "outputId": "f1e7dfef-9ecc-4aa5-f7da-eb25041d5c9d"
   },
   "outputs": [
    {
     "name": "stdout",
     "output_type": "stream",
     "text": [
      "Downloading data from https://storage.googleapis.com/tensorflow/keras-applications/mobilenet/mobilenet_1_0_224_tf_no_top.h5\n",
      "17227776/17225924 [==============================] - 0s 0us/step\n",
      "17235968/17225924 [==============================] - 0s 0us/step\n",
      "Model: \"sequential\"\n",
      "_________________________________________________________________\n",
      " Layer (type)                Output Shape              Param #   \n",
      "=================================================================\n",
      " resizing (Resizing)         (None, 224, 224, 3)       0         \n",
      "                                                                 \n",
      " mobilenet_1.00_224 (Functio  (None, 7, 7, 1024)       3228864   \n",
      " nal)                                                            \n",
      "                                                                 \n",
      " dropout (Dropout)           (None, 7, 7, 1024)        0         \n",
      "                                                                 \n",
      " global_average_pooling2d (G  (None, 1024)             0         \n",
      " lobalAveragePooling2D)                                          \n",
      "                                                                 \n",
      " dense (Dense)               (None, 512)               524800    \n",
      "                                                                 \n",
      " dense_1 (Dense)             (None, 256)               131328    \n",
      "                                                                 \n",
      " dropout_1 (Dropout)         (None, 256)               0         \n",
      "                                                                 \n",
      " dense_2 (Dense)             (None, 128)               32896     \n",
      "                                                                 \n",
      " dropout_2 (Dropout)         (None, 128)               0         \n",
      "                                                                 \n",
      " dense_3 (Dense)             (None, 2)                 258       \n",
      "                                                                 \n",
      "=================================================================\n",
      "Total params: 3,918,146\n",
      "Trainable params: 3,896,258\n",
      "Non-trainable params: 21,888\n",
      "_________________________________________________________________\n"
     ]
    }
   ],
   "source": [
    "from tensorflow.keras.applications import MobileNet\n",
    "from tensorflow.keras.models import Model\n",
    "from keras.layers import Dense,GlobalAveragePooling2D\n",
    "\n",
    "base_model = MobileNet(include_top=False, weights='imagenet',\n",
    "           input_shape=(224,224,3), classes=2)\n",
    "for layer in base_model.layers:\n",
    "    layer.trainable = True\n",
    "tf.keras.layers.GlobalAveragePooling2D\n",
    "mobilenet_model = models.Sequential()\n",
    "mobilenet_model.add(layers.experimental.preprocessing.Resizing(224, 224, input_shape=(96,96,3)))\n",
    "mobilenet_model.add(base_model)\n",
    "mobilenet_model.add(Dropout(0.5))\n",
    "mobilenet_model.add(GlobalAveragePooling2D())\n",
    "\n",
    "#Adding the Dense Layers and Dropout\n",
    "mobilenet_model.add(Dense(512,activation=('relu'))) \n",
    "mobilenet_model.add(Dense(256,activation=('relu'))) \n",
    "mobilenet_model.add(Dropout(0.3))\n",
    "mobilenet_model.add(Dense(128,activation=('relu')))\n",
    "mobilenet_model.add(Dropout(0.2))\n",
    "mobilenet_model.add(Dense(2,activation=('softmax')))\n",
    "\n",
    "mobilenet_model.summary()"
   ]
  },
  {
   "cell_type": "code",
   "execution_count": 18,
   "metadata": {
    "colab": {
     "base_uri": "https://localhost:8080/"
    },
    "id": "YLGR8bCHwswE",
    "outputId": "439b34d1-8af0-432f-cdd9-5cdfc19894a8"
   },
   "outputs": [
    {
     "name": "stdout",
     "output_type": "stream",
     "text": [
      "Epoch 1/50\n",
      "120/120 [==============================] - 99s 694ms/step - loss: 0.6857 - accuracy: 0.5702 - val_loss: 0.7015 - val_accuracy: 0.5370 - lr: 1.0000e-04\n",
      "Epoch 2/50\n",
      "120/120 [==============================] - 82s 684ms/step - loss: 0.6351 - accuracy: 0.6238 - val_loss: 0.6523 - val_accuracy: 0.6016 - lr: 1.0000e-04\n",
      "Epoch 3/50\n",
      "120/120 [==============================] - 79s 660ms/step - loss: 0.5991 - accuracy: 0.6603 - val_loss: 0.6393 - val_accuracy: 0.6323 - lr: 1.0000e-04\n",
      "Epoch 4/50\n",
      "120/120 [==============================] - ETA: 0s - loss: 0.5672 - accuracy: 0.6828\n",
      "Epoch 4: ReduceLROnPlateau reducing learning rate to 9.999999747378752e-06.\n",
      "120/120 [==============================] - 80s 665ms/step - loss: 0.5672 - accuracy: 0.6828 - val_loss: 0.6434 - val_accuracy: 0.6240 - lr: 1.0000e-04\n",
      "Epoch 5/50\n",
      "120/120 [==============================] - ETA: 0s - loss: 0.5112 - accuracy: 0.7320\n",
      "Epoch 5: ReduceLROnPlateau reducing learning rate to 9.999999747378752e-07.\n",
      "120/120 [==============================] - 82s 688ms/step - loss: 0.5112 - accuracy: 0.7320 - val_loss: 0.6378 - val_accuracy: 0.6307 - lr: 1.0000e-05\n",
      "Epoch 6/50\n",
      "120/120 [==============================] - ETA: 0s - loss: 0.4906 - accuracy: 0.7448\n",
      "Epoch 6: ReduceLROnPlateau reducing learning rate to 9.999999974752428e-08.\n",
      "120/120 [==============================] - 82s 683ms/step - loss: 0.4906 - accuracy: 0.7448 - val_loss: 0.6362 - val_accuracy: 0.6276 - lr: 1.0000e-06\n",
      "Epoch 7/50\n",
      "120/120 [==============================] - ETA: 0s - loss: 0.4902 - accuracy: 0.7454\n",
      "Epoch 7: ReduceLROnPlateau reducing learning rate to 1.0000000116860975e-08.\n",
      "120/120 [==============================] - 79s 661ms/step - loss: 0.4902 - accuracy: 0.7454 - val_loss: 0.6470 - val_accuracy: 0.6161 - lr: 1.0000e-07\n",
      "Epoch 8/50\n",
      "120/120 [==============================] - ETA: 0s - loss: 0.4885 - accuracy: 0.7466\n",
      "Epoch 8: ReduceLROnPlateau reducing learning rate to 9.999999939225292e-10.\n",
      "120/120 [==============================] - 81s 675ms/step - loss: 0.4885 - accuracy: 0.7466 - val_loss: 0.6517 - val_accuracy: 0.6109 - lr: 1.0000e-08\n",
      "Epoch 9/50\n",
      "120/120 [==============================] - ETA: 0s - loss: 0.4933 - accuracy: 0.7402\n",
      "Epoch 9: ReduceLROnPlateau reducing learning rate to 9.999999717180686e-11.\n",
      "120/120 [==============================] - 82s 685ms/step - loss: 0.4933 - accuracy: 0.7402 - val_loss: 0.6526 - val_accuracy: 0.6125 - lr: 1.0000e-09\n",
      "Epoch 10/50\n",
      "120/120 [==============================] - ETA: 0s - loss: 0.4933 - accuracy: 0.7436\n",
      "Epoch 10: ReduceLROnPlateau reducing learning rate to 9.99999943962493e-12.\n",
      "120/120 [==============================] - 82s 685ms/step - loss: 0.4933 - accuracy: 0.7436 - val_loss: 0.6534 - val_accuracy: 0.6135 - lr: 1.0000e-10\n",
      "Epoch 11/50\n",
      "120/120 [==============================] - ETA: 0s - loss: 0.4937 - accuracy: 0.7435\n",
      "Epoch 11: ReduceLROnPlateau reducing learning rate to 9.999999092680235e-13.\n",
      "120/120 [==============================] - 79s 661ms/step - loss: 0.4937 - accuracy: 0.7435 - val_loss: 0.6538 - val_accuracy: 0.6135 - lr: 1.0000e-11\n",
      "Epoch 12/50\n",
      "120/120 [==============================] - ETA: 0s - loss: 0.4901 - accuracy: 0.7488\n",
      "Epoch 12: ReduceLROnPlateau reducing learning rate to 9.9999988758398e-14.\n",
      "120/120 [==============================] - 80s 666ms/step - loss: 0.4901 - accuracy: 0.7488 - val_loss: 0.6532 - val_accuracy: 0.6135 - lr: 1.0000e-12\n",
      "Epoch 13/50\n",
      "120/120 [==============================] - ETA: 0s - loss: 0.4928 - accuracy: 0.7428\n",
      "Epoch 13: ReduceLROnPlateau reducing learning rate to 9.999999146890344e-15.\n",
      "120/120 [==============================] - 81s 678ms/step - loss: 0.4928 - accuracy: 0.7428 - val_loss: 0.6533 - val_accuracy: 0.6135 - lr: 1.0000e-13\n",
      "Epoch 13: early stopping\n"
     ]
    }
   ],
   "source": [
    "mobilenet_model.compile(optimizer=optimizers.Adam(learning_rate=0.0001), loss=\"categorical_crossentropy\", metrics=[\"accuracy\"])\n",
    "\n",
    "epochs = 50\n",
    "batch_size = 64\n",
    "early_stop_cb = callbacks.EarlyStopping(monitor='val_accuracy', patience=10, mode='auto', verbose=1),\n",
    "LrValAccuracy = callbacks.ReduceLROnPlateau(factor=0.1, patience=1, monitor='val_accuracy',mode='max', verbose=1),\n",
    "logs = callbacks.TensorBoard(log_dir=\"./log_dir/\"+\"MobileNet\",histogram_freq=1, write_graph=True)\n",
    "history = mobilenet_model.fit(X_train, y_train,\n",
    "                    batch_size = batch_size,\n",
    "                    epochs = epochs, \n",
    "                    validation_data = (X_val, y_val),\n",
    "                    verbose = 1, callbacks = [early_stop_cb,LrValAccuracy,logs])"
   ]
  },
  {
   "cell_type": "code",
   "execution_count": 19,
   "metadata": {
    "colab": {
     "base_uri": "https://localhost:8080/",
     "height": 529
    },
    "id": "gs7LGZXNwswF",
    "outputId": "ddafc59d-cd6a-40fa-d20a-e54d2cb332f8"
   },
   "outputs": [
    {
     "data": {
      "image/png": "[encoded data removed]",
      "text/plain": [
       "<Figure size 504x504 with 1 Axes>"
      ]
     },
     "metadata": {
      "needs_background": "light"
     },
     "output_type": "display_data"
    },
    {
     "data": {
      "image/png": "[encoded data removed]",
      "text/plain": [
       "<Figure size 432x288 with 1 Axes>"
      ]
     },
     "metadata": {
      "needs_background": "light"
     },
     "output_type": "display_data"
    }
   ],
   "source": [
    "fig = plt.figure(figsize=(7, 7))\n",
    "\n",
    "fig.add_subplot(2, 1, 1)\n",
    "plt.plot(history.history['loss'])\n",
    "plt.plot(history.history['val_loss'])\n",
    "plt.title('Model Loss')\n",
    "plt.ylabel('Loss')\n",
    "plt.xlabel('Epochs')\n",
    "plt.legend(['train loss', 'validation loss'],loc='upper right')\n",
    "plt.show()\n",
    "\n",
    "fig.add_subplot(2, 1, 2)\n",
    "plt.plot(history.history['accuracy'])\n",
    "plt.plot(history.history['val_accuracy'])\n",
    "plt.title('Model Accuracy')\n",
    "plt.ylabel('Accuracy')\n",
    "plt.xlabel('Epochs')\n",
    "plt.legend(['train accuracy','Validation accuracy'],loc='lower right')\n",
    "plt.show()"
   ]
  },
  {
   "cell_type": "code",
   "execution_count": 20,
   "metadata": {
    "colab": {
     "base_uri": "https://localhost:8080/"
    },
    "id": "uI2xQAL1qTbh",
    "outputId": "4939af72-17cd-4505-f0e0-3d9e3f226836"
   },
   "outputs": [
    {
     "name": "stdout",
     "output_type": "stream",
     "text": [
      "75/75 [==============================] - 6s 72ms/step - loss: 0.6537 - accuracy: 0.6179\n"
     ]
    }
   ],
   "source": [
    "test_loss,test_acc = mobilenet_model.evaluate(X_test, y_test)"
   ]
  },
  {
   "cell_type": "code",
   "execution_count": 21,
   "metadata": {
    "colab": {
     "base_uri": "https://localhost:8080/"
    },
    "id": "NsefyR-RqTZI",
    "outputId": "17587d7f-54b8-4a12-a3c6-5fb53a6dbc07"
   },
   "outputs": [
    {
     "name": "stdout",
     "output_type": "stream",
     "text": [
      "The testing accuracy of the model - 61.79%\n"
     ]
    }
   ],
   "source": [
    "#accuracy_score\n",
    "print(\"The testing accuracy of the model - \" + str(round(test_acc*100,2)) + \"%\")"
   ]
  },
  {
   "cell_type": "code",
   "execution_count": 22,
   "metadata": {
    "id": "DN_EJOhMwswF"
   },
   "outputs": [],
   "source": [
    "y_pred = mobilenet_model.predict(X_test)"
   ]
  },
  {
   "cell_type": "code",
   "execution_count": 30,
   "metadata": {
    "colab": {
     "base_uri": "https://localhost:8080/",
     "height": 434
    },
    "id": "ncf4Bm2iwswG",
    "outputId": "f6451ebc-8065-4c83-a4a6-a8f6258fef01"
   },
   "outputs": [
    {
     "data": {
      "image/png": "[encoded data removed]",
      "text/plain": [
       "<Figure size 648x432 with 1 Axes>"
      ]
     },
     "metadata": {
      "needs_background": "light"
     },
     "output_type": "display_data"
    }
   ],
   "source": [
    "from sklearn.metrics import confusion_matrix\n",
    "from mlxtend.plotting import plot_confusion_matrix\n",
    "import matplotlib.pyplot as plt\n",
    "\n",
    "labels= ['Fake', 'Real']\n",
    "cf1 = confusion_matrix(y_test.argmax(axis = 1), y_pred.argmax(axis = 1))\n",
    "fig, ax = plot_confusion_matrix(conf_mat=cf1, figsize=(9, 6))\n",
    "plt.xlabel('Prediction', fontsize=20)\n",
    "plt.ylabel('Actual', fontsize=20)\n",
    "plt.title('Confusion Matrix', fontsize=20)\n",
    "plt.show()"
   ]
  },
  {
   "cell_type": "code",
   "execution_count": 31,
   "metadata": {
    "colab": {
     "base_uri": "https://localhost:8080/"
    },
    "id": "IaEBmJPowswG",
    "outputId": "c8be454c-d2d8-456a-f77f-cf6a3c78c3c9"
   },
   "outputs": [
    {
     "name": "stdout",
     "output_type": "stream",
     "text": [
      "              precision    recall  f1-score   support\n",
      "\n",
      "           0       0.62      0.59      0.61      1195\n",
      "           1       0.61      0.64      0.63      1205\n",
      "\n",
      "    accuracy                           0.62      2400\n",
      "   macro avg       0.62      0.62      0.62      2400\n",
      "weighted avg       0.62      0.62      0.62      2400\n",
      "\n"
     ]
    }
   ],
   "source": [
    "from sklearn.metrics import accuracy_score, confusion_matrix, classification_report, recall_score\n",
    "print(classification_report(y_test.argmax(axis = 1),y_pred.argmax(axis = 1)))"
   ]
  },
  {
   "cell_type": "code",
   "execution_count": null,
   "metadata": {
    "id": "rG8jFTCw3PgX"
   },
   "outputs": [],
   "source": []
  }
 ],
 "metadata": {
  "accelerator": "GPU",
  "colab": {
   "collapsed_sections": [],
   "name": "Liveness_Real_Altered.ipynb",
   "provenance": []
  },
  "kernelspec": {
   "display_name": "Python 3",
   "language": "python",
   "name": "python3"
  },
  "language_info": {
   "codemirror_mode": {
    "name": "ipython",
    "version": 3
   },
   "file_extension": ".py",
   "mimetype": "text/x-python",
   "name": "python",
   "nbconvert_exporter": "python",
   "pygments_lexer": "ipython3",
   "version": "3.7.4"
  }
 },
 "nbformat": 4,
 "nbformat_minor": 1
}
